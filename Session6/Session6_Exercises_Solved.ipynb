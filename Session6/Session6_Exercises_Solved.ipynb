{
 "cells": [
  {
   "cell_type": "markdown",
   "metadata": {},
   "source": [
    "# Python for Data Science, Level I\n",
    "### *Session \\#6*\n",
    "---\n",
    "\n",
    "### Helpful shortcuts\n",
    "---\n",
    "\n",
    "**SHIFT** + **ENTER** ----> Execute Cell\n",
    "\n",
    "**TAB** ----> See autocomplete options\n",
    "\n",
    "**ESC** then **b** ----> Create Cell \n",
    "\n",
    "**ESC** then **dd** ----> Delete Cell\n",
    "\n",
    "**\\[python expression\\]?** ---> Explanation of that Python expression\n",
    "\n",
    "**ESC** then **m** then __ENTER__ ----> Switch to Markdown mode"
   ]
  },
  {
   "cell_type": "markdown",
   "metadata": {},
   "source": [
    "## I. Pandas Basics\n",
    "\n",
    "### Warm Ups\n",
    "\n",
    "---\n",
    "\n",
    "**Importing pandas:** `import pandas as pd`"
   ]
  },
  {
   "cell_type": "code",
   "execution_count": 2,
   "metadata": {},
   "outputs": [],
   "source": [
    "import pandas as pd"
   ]
  },
  {
   "cell_type": "markdown",
   "metadata": {},
   "source": [
    "**Dataframe from CSV:** `df = pd.read_csv(\"inspections.csv\")`\n",
    "\n",
    "*Note: Input string can be a URL or a local file path*"
   ]
  },
  {
   "cell_type": "code",
   "execution_count": 3,
   "metadata": {},
   "outputs": [],
   "source": [
    "df = pd.read_csv(\"inspections.csv\")"
   ]
  },
  {
   "cell_type": "markdown",
   "metadata": {},
   "source": [
    "**First 5 lines of file:** `df.head()` "
   ]
  },
  {
   "cell_type": "code",
   "execution_count": 11,
   "metadata": {},
   "outputs": [
    {
     "data": {
      "text/plain": [
       "CAMIS                                                             50058559\n",
       "DBA                                                          PRET A MANGER\n",
       "BORO                                                             MANHATTAN\n",
       "BUILDING                                                               299\n",
       "STREET                                                             7TH AVE\n",
       "ZIPCODE                                                              10001\n",
       "PHONE                                                           6467280505\n",
       "CUISINE DESCRIPTION                                               American\n",
       "INSPECTION DATE                                                 08/28/2017\n",
       "ACTION                     Violations were cited in the following area(s).\n",
       "VIOLATION CODE                                                         16E\n",
       "VIOLATION DESCRIPTION    Caloric content range (minimum to maximum) not...\n",
       "CRITICAL FLAG                                                 Not Critical\n",
       "SCORE                                                                  NaN\n",
       "GRADE                                                                  NaN\n",
       "GRADE DATE                                                             NaN\n",
       "RECORD DATE                                                     04/01/2019\n",
       "INSPECTION TYPE                       Calorie Posting / Initial Inspection\n",
       "Name: 0, dtype: object"
      ]
     },
     "execution_count": 11,
     "metadata": {},
     "output_type": "execute_result"
    }
   ],
   "source": [
    "df.loc[0]"
   ]
  },
  {
   "cell_type": "markdown",
   "metadata": {},
   "source": [
    "**Boolean indexing on rows:** `df[df['GRADE'] == 'C']`"
   ]
  },
  {
   "cell_type": "code",
   "execution_count": null,
   "metadata": {},
   "outputs": [],
   "source": []
  },
  {
   "cell_type": "markdown",
   "metadata": {},
   "source": [
    "**Combining Boolean indexes:** \n",
    "```python\n",
    "a_grade = df['GRADE'] == 'A'\n",
    "bk = df['BORO'] == 'BROOKLYN'\n",
    "df[a_grade & bk]\n",
    "```"
   ]
  },
  {
   "cell_type": "code",
   "execution_count": null,
   "metadata": {},
   "outputs": [],
   "source": []
  },
  {
   "cell_type": "markdown",
   "metadata": {},
   "source": [
    "## Exercises\n",
    "---\n",
    "**1. Apply a Boolean filter to** `CUISINE DESCRIPTION` **to select only the Filipino restaurants. How many inspections were there?** \n",
    "\n",
    "Hint: Use the `len()` function."
   ]
  },
  {
   "cell_type": "code",
   "execution_count": 11,
   "metadata": {},
   "outputs": [
    {
     "data": {
      "text/plain": [
       "179"
      ]
     },
     "execution_count": 11,
     "metadata": {},
     "output_type": "execute_result"
    }
   ],
   "source": [
    "filipino = df['CUISINE DESCRIPTION'] == \"Filipino\"\n",
    "\n",
    "len(df[filipino]) "
   ]
  },
  {
   "cell_type": "markdown",
   "metadata": {},
   "source": [
    "**2. Apply Boolean filters to select only rows where the** `CRITICAL FLAG` **column is** `Critical`. **What percentage of all inspections were** `Critical`**?**\n",
    "\n",
    "Hint: Divide the number of `Critical` rows by the total number"
   ]
  },
  {
   "cell_type": "code",
   "execution_count": 15,
   "metadata": {},
   "outputs": [
    {
     "data": {
      "text/plain": [
       "0.5447536292127646"
      ]
     },
     "execution_count": 15,
     "metadata": {},
     "output_type": "execute_result"
    }
   ],
   "source": [
    "critical = df['CRITICAL FLAG'] == 'Critical'\n",
    "\n",
    "len(df[critical]) / len(df)"
   ]
  },
  {
   "cell_type": "markdown",
   "metadata": {},
   "source": [
    "**3. How many inspections are there for Starbucks? What percentage of Starbucks inspections were** `Critical`**?**\n",
    "\n",
    "Hint: Use the `DBA` column to target Starbucks"
   ]
  },
  {
   "cell_type": "code",
   "execution_count": 17,
   "metadata": {},
   "outputs": [
    {
     "data": {
      "text/plain": [
       "0.3354072398190045"
      ]
     },
     "execution_count": 17,
     "metadata": {},
     "output_type": "execute_result"
    }
   ],
   "source": [
    "star = df['DBA'] == 'STARBUCKS'\n",
    "\n",
    "len(df[star & critical]) / len(df[star])"
   ]
  },
  {
   "cell_type": "markdown",
   "metadata": {},
   "source": [
    "**4. What percentage of inspections of restaurant located on either** `BOWERY` **or** `EAST BROADWAY` **streets were critical?**"
   ]
  },
  {
   "cell_type": "code",
   "execution_count": 19,
   "metadata": {},
   "outputs": [
    {
     "data": {
      "text/plain": [
       "0.5922014622258327"
      ]
     },
     "execution_count": 19,
     "metadata": {},
     "output_type": "execute_result"
    }
   ],
   "source": [
    "bowery = df['STREET'] == 'BOWERY'\n",
    "eb = df['STREET'] == 'EAST BROADWAY'\n",
    "\n",
    "len(df[(bowery|eb)&critical]) / len(df[bowery|eb]) "
   ]
  },
  {
   "cell_type": "markdown",
   "metadata": {},
   "source": [
    "### Extra Credit\n",
    "---\n",
    "**1. Which type of restaurant a higher percentage of** `Critical` **inspections -- restaurants with a** `CUISINE DESCRIPTION` **of** `'Donuts'` **or** `'Juice, Smoothies, Fruit Salads'`**?**"
   ]
  },
  {
   "cell_type": "code",
   "execution_count": 25,
   "metadata": {},
   "outputs": [
    {
     "name": "stdout",
     "output_type": "stream",
     "text": [
      "DONUT RATIO: 0.471031746031746\n",
      "JUICE RATIO: 0.5187202178352621\n"
     ]
    }
   ],
   "source": [
    "donuts = df['CUISINE DESCRIPTION'] == 'Donuts'\n",
    "juice = df['CUISINE DESCRIPTION'] == 'Juice, Smoothies, Fruit Salads'\n",
    "\n",
    "donut_ratio = len(df[donuts&critical])/len(df[donuts])\n",
    "juice_ratio = len(df[juice&critical])/len(df[juice])\n",
    "\n",
    "print(\"DONUT RATIO: \" + str(donut_ratio))\n",
    "print(\"JUICE RATIO: \" + str(juice_ratio))"
   ]
  },
  {
   "cell_type": "markdown",
   "metadata": {},
   "source": [
    "## II. Columns\n",
    "\n",
    "\n",
    "### Warm Ups\n",
    "---\n",
    "**See column data types:** `df.dtypes`"
   ]
  },
  {
   "cell_type": "code",
   "execution_count": null,
   "metadata": {},
   "outputs": [],
   "source": []
  },
  {
   "cell_type": "markdown",
   "metadata": {},
   "source": [
    "**Aggregate column with Numpy function:** `df['SCORE'].mean()`"
   ]
  },
  {
   "cell_type": "code",
   "execution_count": null,
   "metadata": {},
   "outputs": [],
   "source": []
  },
  {
   "cell_type": "markdown",
   "metadata": {},
   "source": [
    "**Create new column from existing one:** `df['NEG_SCORE'] = df['SCORE'] * -1`"
   ]
  },
  {
   "cell_type": "code",
   "execution_count": null,
   "metadata": {},
   "outputs": [],
   "source": []
  },
  {
   "cell_type": "markdown",
   "metadata": {},
   "source": [
    "**Create a dataframe from columns:** \n",
    "```python\n",
    "columns = ['DBA', 'SCORE']\n",
    "df[columns]\n",
    "```"
   ]
  },
  {
   "cell_type": "code",
   "execution_count": null,
   "metadata": {},
   "outputs": [],
   "source": []
  },
  {
   "cell_type": "markdown",
   "metadata": {},
   "source": [
    "**Sort dataframe ascending/descending based on column:** \n",
    "```python\n",
    "df.sort_values('SCORE')\n",
    "df.sort_values('SCORE', ascending=False)\n",
    "```"
   ]
  },
  {
   "cell_type": "code",
   "execution_count": null,
   "metadata": {},
   "outputs": [],
   "source": []
  },
  {
   "cell_type": "markdown",
   "metadata": {},
   "source": [
    "### Exercises\n",
    "---\n",
    "**1. Use** `.dtypes` **to check the datatype of the** `ZIPCODE` **column. Oh no! Since some ZIP codes start with a zero, this is not what we want.**\n",
    "\n",
    "**Load the data again using** `pd.read_csv()`, **but this time after the file name, give it an additional input of** `dtype={\"ZIPCODE\": str}` **to set the ZIP codes to a their proper type.**"
   ]
  },
  {
   "cell_type": "code",
   "execution_count": 4,
   "metadata": {},
   "outputs": [],
   "source": [
    "df = pd.read_csv(\"inspections.csv\",\n",
    "                 dtype={\"ZIPCODE\": str})"
   ]
  },
  {
   "cell_type": "markdown",
   "metadata": {},
   "source": [
    "**2. Restaurants receive points for every health code violation. First, create a smaller dataframe from just the** `DBA` **and** `SCORE` **columns. Then sort by** `SCORE` **descending to see the worst offenders.**"
   ]
  },
  {
   "cell_type": "code",
   "execution_count": 34,
   "metadata": {},
   "outputs": [
    {
     "data": {
      "text/html": [
       "<div>\n",
       "<style scoped>\n",
       "    .dataframe tbody tr th:only-of-type {\n",
       "        vertical-align: middle;\n",
       "    }\n",
       "\n",
       "    .dataframe tbody tr th {\n",
       "        vertical-align: top;\n",
       "    }\n",
       "\n",
       "    .dataframe thead th {\n",
       "        text-align: right;\n",
       "    }\n",
       "</style>\n",
       "<table border=\"1\" class=\"dataframe\">\n",
       "  <thead>\n",
       "    <tr style=\"text-align: right;\">\n",
       "      <th></th>\n",
       "      <th>DBA</th>\n",
       "      <th>SCORE</th>\n",
       "    </tr>\n",
       "  </thead>\n",
       "  <tbody>\n",
       "    <tr>\n",
       "      <th>15551</th>\n",
       "      <td>NOUS LES AMIS RESTAURANT &amp; BAKERY</td>\n",
       "      <td>156.0</td>\n",
       "    </tr>\n",
       "    <tr>\n",
       "      <th>224785</th>\n",
       "      <td>NOUS LES AMIS RESTAURANT &amp; BAKERY</td>\n",
       "      <td>156.0</td>\n",
       "    </tr>\n",
       "    <tr>\n",
       "      <th>37837</th>\n",
       "      <td>NOUS LES AMIS RESTAURANT &amp; BAKERY</td>\n",
       "      <td>156.0</td>\n",
       "    </tr>\n",
       "    <tr>\n",
       "      <th>58920</th>\n",
       "      <td>NOUS LES AMIS RESTAURANT &amp; BAKERY</td>\n",
       "      <td>156.0</td>\n",
       "    </tr>\n",
       "    <tr>\n",
       "      <th>97876</th>\n",
       "      <td>NOUS LES AMIS RESTAURANT &amp; BAKERY</td>\n",
       "      <td>156.0</td>\n",
       "    </tr>\n",
       "    <tr>\n",
       "      <th>150003</th>\n",
       "      <td>NOUS LES AMIS RESTAURANT &amp; BAKERY</td>\n",
       "      <td>156.0</td>\n",
       "    </tr>\n",
       "    <tr>\n",
       "      <th>117164</th>\n",
       "      <td>NOUS LES AMIS RESTAURANT &amp; BAKERY</td>\n",
       "      <td>156.0</td>\n",
       "    </tr>\n",
       "    <tr>\n",
       "      <th>248299</th>\n",
       "      <td>NOUS LES AMIS RESTAURANT &amp; BAKERY</td>\n",
       "      <td>156.0</td>\n",
       "    </tr>\n",
       "    <tr>\n",
       "      <th>32968</th>\n",
       "      <td>NOUS LES AMIS RESTAURANT &amp; BAKERY</td>\n",
       "      <td>156.0</td>\n",
       "    </tr>\n",
       "    <tr>\n",
       "      <th>124811</th>\n",
       "      <td>NOUS LES AMIS RESTAURANT &amp; BAKERY</td>\n",
       "      <td>156.0</td>\n",
       "    </tr>\n",
       "    <tr>\n",
       "      <th>135086</th>\n",
       "      <td>NOUS LES AMIS RESTAURANT &amp; BAKERY</td>\n",
       "      <td>156.0</td>\n",
       "    </tr>\n",
       "    <tr>\n",
       "      <th>142072</th>\n",
       "      <td>NOUS LES AMIS RESTAURANT &amp; BAKERY</td>\n",
       "      <td>156.0</td>\n",
       "    </tr>\n",
       "    <tr>\n",
       "      <th>191311</th>\n",
       "      <td>KAY'S BOUTIQUE CAFE</td>\n",
       "      <td>155.0</td>\n",
       "    </tr>\n",
       "    <tr>\n",
       "      <th>75201</th>\n",
       "      <td>KAY'S BOUTIQUE CAFE</td>\n",
       "      <td>155.0</td>\n",
       "    </tr>\n",
       "    <tr>\n",
       "      <th>176758</th>\n",
       "      <td>KAY'S BOUTIQUE CAFE</td>\n",
       "      <td>155.0</td>\n",
       "    </tr>\n",
       "    <tr>\n",
       "      <th>210874</th>\n",
       "      <td>KAY'S BOUTIQUE CAFE</td>\n",
       "      <td>155.0</td>\n",
       "    </tr>\n",
       "    <tr>\n",
       "      <th>109862</th>\n",
       "      <td>KAY'S BOUTIQUE CAFE</td>\n",
       "      <td>155.0</td>\n",
       "    </tr>\n",
       "    <tr>\n",
       "      <th>28774</th>\n",
       "      <td>KAY'S BOUTIQUE CAFE</td>\n",
       "      <td>155.0</td>\n",
       "    </tr>\n",
       "    <tr>\n",
       "      <th>184878</th>\n",
       "      <td>KAY'S BOUTIQUE CAFE</td>\n",
       "      <td>155.0</td>\n",
       "    </tr>\n",
       "    <tr>\n",
       "      <th>208608</th>\n",
       "      <td>KAY'S BOUTIQUE CAFE</td>\n",
       "      <td>155.0</td>\n",
       "    </tr>\n",
       "    <tr>\n",
       "      <th>218145</th>\n",
       "      <td>The Slope Lounge and Restaurant</td>\n",
       "      <td>152.0</td>\n",
       "    </tr>\n",
       "    <tr>\n",
       "      <th>236820</th>\n",
       "      <td>The Slope Lounge and Restaurant</td>\n",
       "      <td>152.0</td>\n",
       "    </tr>\n",
       "    <tr>\n",
       "      <th>212064</th>\n",
       "      <td>The Slope Lounge and Restaurant</td>\n",
       "      <td>152.0</td>\n",
       "    </tr>\n",
       "    <tr>\n",
       "      <th>44067</th>\n",
       "      <td>The Slope Lounge and Restaurant</td>\n",
       "      <td>152.0</td>\n",
       "    </tr>\n",
       "    <tr>\n",
       "      <th>210803</th>\n",
       "      <td>The Slope Lounge and Restaurant</td>\n",
       "      <td>152.0</td>\n",
       "    </tr>\n",
       "    <tr>\n",
       "      <th>241883</th>\n",
       "      <td>The Slope Lounge and Restaurant</td>\n",
       "      <td>152.0</td>\n",
       "    </tr>\n",
       "    <tr>\n",
       "      <th>100720</th>\n",
       "      <td>The Slope Lounge and Restaurant</td>\n",
       "      <td>152.0</td>\n",
       "    </tr>\n",
       "    <tr>\n",
       "      <th>19376</th>\n",
       "      <td>MARGARITA ISLAND</td>\n",
       "      <td>151.0</td>\n",
       "    </tr>\n",
       "    <tr>\n",
       "      <th>57927</th>\n",
       "      <td>MARGARITA ISLAND</td>\n",
       "      <td>151.0</td>\n",
       "    </tr>\n",
       "    <tr>\n",
       "      <th>139643</th>\n",
       "      <td>MARGARITA ISLAND</td>\n",
       "      <td>151.0</td>\n",
       "    </tr>\n",
       "    <tr>\n",
       "      <th>...</th>\n",
       "      <td>...</td>\n",
       "      <td>...</td>\n",
       "    </tr>\n",
       "    <tr>\n",
       "      <th>249604</th>\n",
       "      <td>FRANKLIN PARK/DUTCH BOY BURGER</td>\n",
       "      <td>NaN</td>\n",
       "    </tr>\n",
       "    <tr>\n",
       "      <th>249611</th>\n",
       "      <td>ALL NATIONS</td>\n",
       "      <td>NaN</td>\n",
       "    </tr>\n",
       "    <tr>\n",
       "      <th>249620</th>\n",
       "      <td>RESTAURANT ON 58 ST. INC.</td>\n",
       "      <td>NaN</td>\n",
       "    </tr>\n",
       "    <tr>\n",
       "      <th>249622</th>\n",
       "      <td>CANTINA ROOFTOP</td>\n",
       "      <td>NaN</td>\n",
       "    </tr>\n",
       "    <tr>\n",
       "      <th>249627</th>\n",
       "      <td>TABOONETTE</td>\n",
       "      <td>NaN</td>\n",
       "    </tr>\n",
       "    <tr>\n",
       "      <th>249639</th>\n",
       "      <td>BROOKLYN CAFE 1</td>\n",
       "      <td>NaN</td>\n",
       "    </tr>\n",
       "    <tr>\n",
       "      <th>249661</th>\n",
       "      <td>BELARUSSIAN XATA</td>\n",
       "      <td>NaN</td>\n",
       "    </tr>\n",
       "    <tr>\n",
       "      <th>249675</th>\n",
       "      <td>EMPIRE GRILL</td>\n",
       "      <td>NaN</td>\n",
       "    </tr>\n",
       "    <tr>\n",
       "      <th>249692</th>\n",
       "      <td>SWEETGREEN</td>\n",
       "      <td>NaN</td>\n",
       "    </tr>\n",
       "    <tr>\n",
       "      <th>249763</th>\n",
       "      <td>MURPHY'S TAVERN</td>\n",
       "      <td>NaN</td>\n",
       "    </tr>\n",
       "    <tr>\n",
       "      <th>249773</th>\n",
       "      <td>CUCINA BENE PIZZERIA</td>\n",
       "      <td>NaN</td>\n",
       "    </tr>\n",
       "    <tr>\n",
       "      <th>249789</th>\n",
       "      <td>BROOKLYN KAVA</td>\n",
       "      <td>NaN</td>\n",
       "    </tr>\n",
       "    <tr>\n",
       "      <th>249827</th>\n",
       "      <td>COLUMBIA UNIVERSITY BAKER ATHLETICS COMPLEX, S...</td>\n",
       "      <td>NaN</td>\n",
       "    </tr>\n",
       "    <tr>\n",
       "      <th>249847</th>\n",
       "      <td>NaN</td>\n",
       "      <td>NaN</td>\n",
       "    </tr>\n",
       "    <tr>\n",
       "      <th>249854</th>\n",
       "      <td>BULL MCCABES</td>\n",
       "      <td>NaN</td>\n",
       "    </tr>\n",
       "    <tr>\n",
       "      <th>249860</th>\n",
       "      <td>SUBWAY</td>\n",
       "      <td>NaN</td>\n",
       "    </tr>\n",
       "    <tr>\n",
       "      <th>249900</th>\n",
       "      <td>JUICE &amp; JOY - ORGANIC COFFEE</td>\n",
       "      <td>NaN</td>\n",
       "    </tr>\n",
       "    <tr>\n",
       "      <th>249905</th>\n",
       "      <td>SPEEDY'S DELI</td>\n",
       "      <td>NaN</td>\n",
       "    </tr>\n",
       "    <tr>\n",
       "      <th>249910</th>\n",
       "      <td>NaN</td>\n",
       "      <td>NaN</td>\n",
       "    </tr>\n",
       "    <tr>\n",
       "      <th>249929</th>\n",
       "      <td>MAIDEN LANE</td>\n",
       "      <td>NaN</td>\n",
       "    </tr>\n",
       "    <tr>\n",
       "      <th>249941</th>\n",
       "      <td>MI YUE LOU</td>\n",
       "      <td>NaN</td>\n",
       "    </tr>\n",
       "    <tr>\n",
       "      <th>249973</th>\n",
       "      <td>BURGOS RESTAURANT</td>\n",
       "      <td>NaN</td>\n",
       "    </tr>\n",
       "    <tr>\n",
       "      <th>249983</th>\n",
       "      <td>LAS LUNITAS</td>\n",
       "      <td>NaN</td>\n",
       "    </tr>\n",
       "    <tr>\n",
       "      <th>250014</th>\n",
       "      <td>ROCCA/CAFE-LOUNGE</td>\n",
       "      <td>NaN</td>\n",
       "    </tr>\n",
       "    <tr>\n",
       "      <th>250029</th>\n",
       "      <td>ESTELLE</td>\n",
       "      <td>NaN</td>\n",
       "    </tr>\n",
       "    <tr>\n",
       "      <th>250101</th>\n",
       "      <td>STEWARTS</td>\n",
       "      <td>NaN</td>\n",
       "    </tr>\n",
       "    <tr>\n",
       "      <th>250125</th>\n",
       "      <td>SUMNER CAFE</td>\n",
       "      <td>NaN</td>\n",
       "    </tr>\n",
       "    <tr>\n",
       "      <th>250163</th>\n",
       "      <td>VIVI BUBBLE TEA</td>\n",
       "      <td>NaN</td>\n",
       "    </tr>\n",
       "    <tr>\n",
       "      <th>250165</th>\n",
       "      <td>EL CONDE NUEVO</td>\n",
       "      <td>NaN</td>\n",
       "    </tr>\n",
       "    <tr>\n",
       "      <th>250171</th>\n",
       "      <td>MCDONALD'S</td>\n",
       "      <td>NaN</td>\n",
       "    </tr>\n",
       "  </tbody>\n",
       "</table>\n",
       "<p>250192 rows × 2 columns</p>\n",
       "</div>"
      ],
      "text/plain": [
       "                                                      DBA  SCORE\n",
       "15551                   NOUS LES AMIS RESTAURANT & BAKERY  156.0\n",
       "224785                  NOUS LES AMIS RESTAURANT & BAKERY  156.0\n",
       "37837                   NOUS LES AMIS RESTAURANT & BAKERY  156.0\n",
       "58920                   NOUS LES AMIS RESTAURANT & BAKERY  156.0\n",
       "97876                   NOUS LES AMIS RESTAURANT & BAKERY  156.0\n",
       "150003                  NOUS LES AMIS RESTAURANT & BAKERY  156.0\n",
       "117164                  NOUS LES AMIS RESTAURANT & BAKERY  156.0\n",
       "248299                  NOUS LES AMIS RESTAURANT & BAKERY  156.0\n",
       "32968                   NOUS LES AMIS RESTAURANT & BAKERY  156.0\n",
       "124811                  NOUS LES AMIS RESTAURANT & BAKERY  156.0\n",
       "135086                  NOUS LES AMIS RESTAURANT & BAKERY  156.0\n",
       "142072                  NOUS LES AMIS RESTAURANT & BAKERY  156.0\n",
       "191311                                KAY'S BOUTIQUE CAFE  155.0\n",
       "75201                                 KAY'S BOUTIQUE CAFE  155.0\n",
       "176758                                KAY'S BOUTIQUE CAFE  155.0\n",
       "210874                                KAY'S BOUTIQUE CAFE  155.0\n",
       "109862                                KAY'S BOUTIQUE CAFE  155.0\n",
       "28774                                 KAY'S BOUTIQUE CAFE  155.0\n",
       "184878                                KAY'S BOUTIQUE CAFE  155.0\n",
       "208608                                KAY'S BOUTIQUE CAFE  155.0\n",
       "218145                    The Slope Lounge and Restaurant  152.0\n",
       "236820                    The Slope Lounge and Restaurant  152.0\n",
       "212064                    The Slope Lounge and Restaurant  152.0\n",
       "44067                     The Slope Lounge and Restaurant  152.0\n",
       "210803                    The Slope Lounge and Restaurant  152.0\n",
       "241883                    The Slope Lounge and Restaurant  152.0\n",
       "100720                    The Slope Lounge and Restaurant  152.0\n",
       "19376                                    MARGARITA ISLAND  151.0\n",
       "57927                                    MARGARITA ISLAND  151.0\n",
       "139643                                   MARGARITA ISLAND  151.0\n",
       "...                                                   ...    ...\n",
       "249604                     FRANKLIN PARK/DUTCH BOY BURGER    NaN\n",
       "249611                                        ALL NATIONS    NaN\n",
       "249620                          RESTAURANT ON 58 ST. INC.    NaN\n",
       "249622                                    CANTINA ROOFTOP    NaN\n",
       "249627                                         TABOONETTE    NaN\n",
       "249639                                    BROOKLYN CAFE 1    NaN\n",
       "249661                                   BELARUSSIAN XATA    NaN\n",
       "249675                                       EMPIRE GRILL    NaN\n",
       "249692                                         SWEETGREEN    NaN\n",
       "249763                                    MURPHY'S TAVERN    NaN\n",
       "249773                               CUCINA BENE PIZZERIA    NaN\n",
       "249789                                      BROOKLYN KAVA    NaN\n",
       "249827  COLUMBIA UNIVERSITY BAKER ATHLETICS COMPLEX, S...    NaN\n",
       "249847                                                NaN    NaN\n",
       "249854                                       BULL MCCABES    NaN\n",
       "249860                                             SUBWAY    NaN\n",
       "249900                       JUICE & JOY - ORGANIC COFFEE    NaN\n",
       "249905                                      SPEEDY'S DELI    NaN\n",
       "249910                                                NaN    NaN\n",
       "249929                                        MAIDEN LANE    NaN\n",
       "249941                                         MI YUE LOU    NaN\n",
       "249973                                  BURGOS RESTAURANT    NaN\n",
       "249983                                        LAS LUNITAS    NaN\n",
       "250014                                  ROCCA/CAFE-LOUNGE    NaN\n",
       "250029                                            ESTELLE    NaN\n",
       "250101                                           STEWARTS    NaN\n",
       "250125                                        SUMNER CAFE    NaN\n",
       "250163                                    VIVI BUBBLE TEA    NaN\n",
       "250165                                     EL CONDE NUEVO    NaN\n",
       "250171                                         MCDONALD'S    NaN\n",
       "\n",
       "[250192 rows x 2 columns]"
      ]
     },
     "execution_count": 34,
     "metadata": {},
     "output_type": "execute_result"
    }
   ],
   "source": [
    "df[['DBA', 'SCORE']].sort_values(\"SCORE\", ascending=False)"
   ]
  },
  {
   "cell_type": "markdown",
   "metadata": {},
   "source": [
    "**3. What is the average** `SCORE` **across all inspections?**"
   ]
  },
  {
   "cell_type": "code",
   "execution_count": 35,
   "metadata": {},
   "outputs": [
    {
     "data": {
      "text/plain": [
       "19.915540853345455"
      ]
     },
     "execution_count": 35,
     "metadata": {},
     "output_type": "execute_result"
    }
   ],
   "source": [
    "df['SCORE'].mean()"
   ]
  },
  {
   "cell_type": "markdown",
   "metadata": {},
   "source": [
    "**4. Which has inspections with a higher average** `SCORE`, **Manhattan or Brooklyn?**"
   ]
  },
  {
   "cell_type": "code",
   "execution_count": 21,
   "metadata": {},
   "outputs": [
    {
     "data": {
      "text/plain": [
       "19.758882986419728"
      ]
     },
     "execution_count": 21,
     "metadata": {},
     "output_type": "execute_result"
    }
   ],
   "source": [
    "bk = df['BORO'] == 'BROOKLYN'\n",
    "man = df['BORO'] == 'MANHATTAN'\n",
    "\n",
    "df[man]['SCORE'].mean()"
   ]
  },
  {
   "cell_type": "markdown",
   "metadata": {},
   "source": [
    "**5. Create a new column** `SMALL_SCORE` **which takes the** `SCORE` **column and divides it by 10.**"
   ]
  },
  {
   "cell_type": "code",
   "execution_count": 1,
   "metadata": {},
   "outputs": [],
   "source": [
    "df['SMALL_SCORE'] = df['SCORE'] / 10"
   ]
  },
  {
   "cell_type": "markdown",
   "metadata": {},
   "source": [
    "**5. What is the most common** `STREET` **for inspections to occur on?**\n",
    "\n",
    "Hint: You can use the Numpy method `.mode()` to get the most frequently occuring value from a column."
   ]
  },
  {
   "cell_type": "code",
   "execution_count": 23,
   "metadata": {},
   "outputs": [
    {
     "data": {
      "text/plain": [
       "0    BROADWAY\n",
       "dtype: object"
      ]
     },
     "execution_count": 23,
     "metadata": {},
     "output_type": "execute_result"
    }
   ],
   "source": [
    "df['STREET'].mode()"
   ]
  },
  {
   "cell_type": "markdown",
   "metadata": {},
   "source": [
    "### Extra Credit\n",
    "---\n",
    "**6. What is the most common** `DBA` **for inspections that are flagged** `Critical`?"
   ]
  },
  {
   "cell_type": "code",
   "execution_count": 44,
   "metadata": {},
   "outputs": [
    {
     "data": {
      "text/plain": [
       "0    DUNKIN' DONUTS\n",
       "dtype: object"
      ]
     },
     "execution_count": 44,
     "metadata": {},
     "output_type": "execute_result"
    }
   ],
   "source": [
    "df[critical]['DBA'].mode()"
   ]
  },
  {
   "cell_type": "markdown",
   "metadata": {},
   "source": [
    "## III. Cleaning Data\n",
    "\n",
    "\n",
    "### Warm Ups\n",
    "---\n",
    "\n",
    "**Contains string:** `starbucks = df['DBA'].str.contains('STARBUCKS', na=False)`"
   ]
  },
  {
   "cell_type": "code",
   "execution_count": null,
   "metadata": {},
   "outputs": [],
   "source": []
  },
  {
   "cell_type": "markdown",
   "metadata": {},
   "source": [
    "**Starts/ends with:** \n",
    "```python \n",
    "df['DBA'].str.startswith(\"THE\")\n",
    "df['DBA'].str.endswith(\"RESTAURANT\")\n",
    "```"
   ]
  },
  {
   "cell_type": "code",
   "execution_count": null,
   "metadata": {},
   "outputs": [],
   "source": []
  },
  {
   "cell_type": "markdown",
   "metadata": {},
   "source": [
    "**Overwrite:** `df.loc[starbucks, \"DBA\"] = \"STARBUCKS\"`"
   ]
  },
  {
   "cell_type": "code",
   "execution_count": null,
   "metadata": {},
   "outputs": [],
   "source": []
  },
  {
   "cell_type": "markdown",
   "metadata": {},
   "source": [
    "**Rows with/without NaN in column:** \n",
    "```python\n",
    "df['GRADE'].isnull()\n",
    "df['GRADE'].notnull()\n",
    "```"
   ]
  },
  {
   "cell_type": "code",
   "execution_count": null,
   "metadata": {},
   "outputs": [],
   "source": []
  },
  {
   "cell_type": "markdown",
   "metadata": {},
   "source": [
    "**Fill all NaN values in a column:** `df['GRADE'].fillna('NOT RATED')`"
   ]
  },
  {
   "cell_type": "code",
   "execution_count": null,
   "metadata": {},
   "outputs": [],
   "source": []
  },
  {
   "cell_type": "markdown",
   "metadata": {},
   "source": [
    "**Save to CSV:** `df.to_csv(\"inspections.csv\", index=False)`"
   ]
  },
  {
   "cell_type": "code",
   "execution_count": null,
   "metadata": {},
   "outputs": [],
   "source": []
  },
  {
   "cell_type": "markdown",
   "metadata": {},
   "source": [
    "### Exercises\n",
    "---\n",
    "**1. Find all the spellings of McDonald's by filtering** `DBA` **to anything that contains** `DONALD`\n",
    "\n",
    "Hint: You can use the `set()` function on the `DBA` column after to just see unique values"
   ]
  },
  {
   "cell_type": "code",
   "execution_count": 12,
   "metadata": {},
   "outputs": [
    {
     "data": {
      "text/plain": [
       "{'MCDONALD AVENUE DINER',\n",
       " \"MCDONALD'S\",\n",
       " \"MCDONALD'S #11542\",\n",
       " \"MCDONALD'S #13068\",\n",
       " \"MCDONALD'S #23105\",\n",
       " \"MCDONALD'S #3880\",\n",
       " \"MCDONALD'S CORPORATION\",\n",
       " \"MCDONALD'S RESTAURANT\",\n",
       " \"MCDONALD'S RESTAURANTS OF NEW YORK INC\",\n",
       " 'MCDONALDS',\n",
       " 'MCDONALDS # 18093',\n",
       " 'MCDONALDS # 6160',\n",
       " 'MCDONALDS RESTAURANT'}"
      ]
     },
     "execution_count": 12,
     "metadata": {},
     "output_type": "execute_result"
    }
   ],
   "source": [
    "donald = df['DBA'].str.contains('DONALD', na=False)\n",
    "\n",
    "set(df[donald]['DBA'])"
   ]
  },
  {
   "cell_type": "markdown",
   "metadata": {},
   "source": [
    "**2. We don't want to include** `Macdonald Avenue Diner` **so create a second Boolean filter to matches** `DBA` **values that end with** `\"DINER\"`"
   ]
  },
  {
   "cell_type": "code",
   "execution_count": 19,
   "metadata": {},
   "outputs": [],
   "source": [
    "ends_with_diner = df['DBA'].str.endswith('DINER', na=False)\n",
    "\n",
    "safe_donald = ~ends_with_diner&donald"
   ]
  },
  {
   "cell_type": "code",
   "execution_count": null,
   "metadata": {},
   "outputs": [],
   "source": []
  },
  {
   "cell_type": "markdown",
   "metadata": {},
   "source": [
    "**3. Select the rows that match the** `DONALD` **filter but not the** `DINER` **filter, and overwrite with the string** `\"MCDONALDS\"` **to standardize the spelling.**"
   ]
  },
  {
   "cell_type": "code",
   "execution_count": 198,
   "metadata": {},
   "outputs": [],
   "source": [
    "df.loc[safe_donald, 'DBA'] = \"MCDONALDS\""
   ]
  },
  {
   "cell_type": "markdown",
   "metadata": {},
   "source": [
    "**4. Use** `.fillna()` **to create a copy of the** `DBA` **column with an empty string instead of NAs. Overwrite the DBA column with this new version.**"
   ]
  },
  {
   "cell_type": "code",
   "execution_count": 65,
   "metadata": {},
   "outputs": [],
   "source": [
    "df['DBA'] = df['DBA'].fillna('')"
   ]
  },
  {
   "cell_type": "markdown",
   "metadata": {},
   "source": [
    "### Extra Credit\n",
    "---\n",
    "\n",
    "**1. Many restaurants without a grade were given an inspection score, which can be used to derive a grade. Those that get 0 and 13 points earn an A, those with 14 to 27 points receive a B and those with 28\n",
    "or more a C.**\n",
    "\n",
    "**Use boolean indexing to fill in those missing grades that can be derived.**"
   ]
  },
  {
   "cell_type": "code",
   "execution_count": 64,
   "metadata": {},
   "outputs": [],
   "source": [
    "# Fill in A scores\n",
    "a_score = df['SCORE'] < 14\n",
    "should_be_a = null_grade & a_score\n",
    "df.loc[should_be_a, 'GRADE'] = 'A'\n",
    "\n",
    "# Fill in B scores\n",
    "b_score = 14 <= df['SCORE'] & df['SCORE'] <= 27 \n",
    "should_be_b = null_grade & b_score\n",
    "df.loc[should_be_b, 'GRADE'] = 'B'\n",
    "\n",
    "# Fill in C scores\n",
    "c_score = 28 < df['SCORE'] \n",
    "should_be_c = null_grade & c _score\n",
    "df.loc[should_be_c, 'GRADE'] = 'C'"
   ]
  }
 ],
 "metadata": {
  "kernelspec": {
   "display_name": "Python 3",
   "language": "python",
   "name": "python3"
  },
  "language_info": {
   "codemirror_mode": {
    "name": "ipython",
    "version": 3
   },
   "file_extension": ".py",
   "mimetype": "text/x-python",
   "name": "python",
   "nbconvert_exporter": "python",
   "pygments_lexer": "ipython3",
   "version": "3.6.8"
  }
 },
 "nbformat": 4,
 "nbformat_minor": 2
}
