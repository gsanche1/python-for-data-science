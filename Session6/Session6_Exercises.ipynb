{
 "cells": [
  {
   "cell_type": "markdown",
   "metadata": {},
   "source": [
    "# Python for Data Science, Level I\n",
    "### *Session \\#6*\n",
    "---\n",
    "\n",
    "### Helpful shortcuts\n",
    "---\n",
    "\n",
    "**SHIFT** + **ENTER** ----> Execute Cell\n",
    "\n",
    "**TAB** ----> See autocomplete options\n",
    "\n",
    "**ESC** then **b** ----> Create Cell \n",
    "\n",
    "**ESC** then **dd** ----> Delete Cell\n",
    "\n",
    "**\\[python expression\\]?** ---> Explanation of that Python expression\n",
    "\n",
    "**ESC** then **m** then __ENTER__ ----> Switch to Markdown mode"
   ]
  },
  {
   "cell_type": "markdown",
   "metadata": {},
   "source": [
    "## I. Pandas Basics\n",
    "\n",
    "### Warm Ups\n",
    "\n",
    "---\n",
    "\n",
    "**Importing pandas:** `import pandas as pd`"
   ]
  },
  {
   "cell_type": "code",
   "execution_count": null,
   "metadata": {},
   "outputs": [],
   "source": []
  },
  {
   "cell_type": "markdown",
   "metadata": {},
   "source": [
    "**Dataframe from CSV:** `df = pd.read_csv(\"inspections.csv\")`\n",
    "\n",
    "*Note: Input string can be a URL or a local file path*"
   ]
  },
  {
   "cell_type": "code",
   "execution_count": null,
   "metadata": {},
   "outputs": [],
   "source": []
  },
  {
   "cell_type": "markdown",
   "metadata": {},
   "source": [
    "**First 5 lines of file:** `df.head()` "
   ]
  },
  {
   "cell_type": "code",
   "execution_count": 216,
   "metadata": {},
   "outputs": [
    {
     "data": {
      "text/html": [
       "<div>\n",
       "<style scoped>\n",
       "    .dataframe tbody tr th:only-of-type {\n",
       "        vertical-align: middle;\n",
       "    }\n",
       "\n",
       "    .dataframe tbody tr th {\n",
       "        vertical-align: top;\n",
       "    }\n",
       "\n",
       "    .dataframe thead th {\n",
       "        text-align: right;\n",
       "    }\n",
       "</style>\n",
       "<table border=\"1\" class=\"dataframe\">\n",
       "  <thead>\n",
       "    <tr style=\"text-align: right;\">\n",
       "      <th></th>\n",
       "      <th>CAMIS</th>\n",
       "      <th>DBA</th>\n",
       "      <th>BORO</th>\n",
       "      <th>BUILDING</th>\n",
       "      <th>STREET</th>\n",
       "      <th>ZIPCODE</th>\n",
       "      <th>PHONE</th>\n",
       "      <th>CUISINE DESCRIPTION</th>\n",
       "      <th>INSPECTION DATE</th>\n",
       "      <th>ACTION</th>\n",
       "      <th>VIOLATION CODE</th>\n",
       "      <th>VIOLATION DESCRIPTION</th>\n",
       "      <th>CRITICAL FLAG</th>\n",
       "      <th>SCORE</th>\n",
       "      <th>GRADE</th>\n",
       "      <th>GRADE DATE</th>\n",
       "      <th>RECORD DATE</th>\n",
       "      <th>INSPECTION TYPE</th>\n",
       "    </tr>\n",
       "  </thead>\n",
       "  <tbody>\n",
       "    <tr>\n",
       "      <th>0</th>\n",
       "      <td>50058559</td>\n",
       "      <td>PRET A MANGER</td>\n",
       "      <td>MANHATTAN</td>\n",
       "      <td>299</td>\n",
       "      <td>7TH AVE</td>\n",
       "      <td>10001</td>\n",
       "      <td>6467280505</td>\n",
       "      <td>American</td>\n",
       "      <td>08/28/2017</td>\n",
       "      <td>Violations were cited in the following area(s).</td>\n",
       "      <td>16E</td>\n",
       "      <td>Caloric content range (minimum to maximum) not...</td>\n",
       "      <td>Not Critical</td>\n",
       "      <td>NaN</td>\n",
       "      <td>NaN</td>\n",
       "      <td>NaN</td>\n",
       "      <td>04/01/2019</td>\n",
       "      <td>Calorie Posting / Initial Inspection</td>\n",
       "    </tr>\n",
       "    <tr>\n",
       "      <th>1</th>\n",
       "      <td>50069855</td>\n",
       "      <td>FERRY HOUSE CAFE</td>\n",
       "      <td>MANHATTAN</td>\n",
       "      <td>PIER 11</td>\n",
       "      <td>SOUTH ST</td>\n",
       "      <td>10005</td>\n",
       "      <td>9175363918</td>\n",
       "      <td>CafÃ©/Coffee/Tea</td>\n",
       "      <td>11/30/2017</td>\n",
       "      <td>Violations were cited in the following area(s).</td>\n",
       "      <td>05H</td>\n",
       "      <td>No facilities available to wash, rinse and san...</td>\n",
       "      <td>Critical</td>\n",
       "      <td>94.0</td>\n",
       "      <td>C</td>\n",
       "      <td>11/30/2017</td>\n",
       "      <td>04/01/2019</td>\n",
       "      <td>Pre-permit (Operational) / Re-inspection</td>\n",
       "    </tr>\n",
       "    <tr>\n",
       "      <th>2</th>\n",
       "      <td>50072700</td>\n",
       "      <td>MAMA FINA'S</td>\n",
       "      <td>MANHATTAN</td>\n",
       "      <td>167</td>\n",
       "      <td>AVENUE A</td>\n",
       "      <td>10009</td>\n",
       "      <td>9172620893</td>\n",
       "      <td>Filipino</td>\n",
       "      <td>07/12/2018</td>\n",
       "      <td>Violations were cited in the following area(s).</td>\n",
       "      <td>04K</td>\n",
       "      <td>Evidence of rats or live rats present in facil...</td>\n",
       "      <td>Critical</td>\n",
       "      <td>9.0</td>\n",
       "      <td>A</td>\n",
       "      <td>07/12/2018</td>\n",
       "      <td>04/01/2019</td>\n",
       "      <td>Pre-permit (Operational) / Re-inspection</td>\n",
       "    </tr>\n",
       "    <tr>\n",
       "      <th>3</th>\n",
       "      <td>50047067</td>\n",
       "      <td>STARBUCKS</td>\n",
       "      <td>BROOKLYN</td>\n",
       "      <td>154</td>\n",
       "      <td>N 7TH ST</td>\n",
       "      <td>11249</td>\n",
       "      <td>7183840152</td>\n",
       "      <td>CafÃ©/Coffee/Tea</td>\n",
       "      <td>07/21/2017</td>\n",
       "      <td>Violations were cited in the following area(s).</td>\n",
       "      <td>16E</td>\n",
       "      <td>Caloric content range (minimum to maximum) not...</td>\n",
       "      <td>Not Critical</td>\n",
       "      <td>NaN</td>\n",
       "      <td>NaN</td>\n",
       "      <td>NaN</td>\n",
       "      <td>04/01/2019</td>\n",
       "      <td>Calorie Posting / Initial Inspection</td>\n",
       "    </tr>\n",
       "    <tr>\n",
       "      <th>4</th>\n",
       "      <td>41047349</td>\n",
       "      <td>JENNIFER CAFE</td>\n",
       "      <td>MANHATTAN</td>\n",
       "      <td>67</td>\n",
       "      <td>1 AVENUE</td>\n",
       "      <td>10003</td>\n",
       "      <td>9176745443</td>\n",
       "      <td>Latin (Cuban, Dominican, Puerto Rican, South &amp;...</td>\n",
       "      <td>02/27/2018</td>\n",
       "      <td>Violations were cited in the following area(s).</td>\n",
       "      <td>08A</td>\n",
       "      <td>Facility not vermin proof. Harborage or condit...</td>\n",
       "      <td>Not Critical</td>\n",
       "      <td>20.0</td>\n",
       "      <td>NaN</td>\n",
       "      <td>NaN</td>\n",
       "      <td>04/01/2019</td>\n",
       "      <td>Cycle Inspection / Initial Inspection</td>\n",
       "    </tr>\n",
       "  </tbody>\n",
       "</table>\n",
       "</div>"
      ],
      "text/plain": [
       "      CAMIS               DBA       BORO BUILDING    STREET ZIPCODE  \\\n",
       "0  50058559     PRET A MANGER  MANHATTAN      299   7TH AVE   10001   \n",
       "1  50069855  FERRY HOUSE CAFE  MANHATTAN  PIER 11  SOUTH ST   10005   \n",
       "2  50072700       MAMA FINA'S  MANHATTAN      167  AVENUE A   10009   \n",
       "3  50047067         STARBUCKS   BROOKLYN      154  N 7TH ST   11249   \n",
       "4  41047349     JENNIFER CAFE  MANHATTAN       67  1 AVENUE   10003   \n",
       "\n",
       "        PHONE                                CUISINE DESCRIPTION  \\\n",
       "0  6467280505                                           American   \n",
       "1  9175363918                                   CafÃ©/Coffee/Tea   \n",
       "2  9172620893                                           Filipino   \n",
       "3  7183840152                                   CafÃ©/Coffee/Tea   \n",
       "4  9176745443  Latin (Cuban, Dominican, Puerto Rican, South &...   \n",
       "\n",
       "  INSPECTION DATE                                           ACTION  \\\n",
       "0      08/28/2017  Violations were cited in the following area(s).   \n",
       "1      11/30/2017  Violations were cited in the following area(s).   \n",
       "2      07/12/2018  Violations were cited in the following area(s).   \n",
       "3      07/21/2017  Violations were cited in the following area(s).   \n",
       "4      02/27/2018  Violations were cited in the following area(s).   \n",
       "\n",
       "  VIOLATION CODE                              VIOLATION DESCRIPTION  \\\n",
       "0            16E  Caloric content range (minimum to maximum) not...   \n",
       "1            05H  No facilities available to wash, rinse and san...   \n",
       "2            04K  Evidence of rats or live rats present in facil...   \n",
       "3            16E  Caloric content range (minimum to maximum) not...   \n",
       "4            08A  Facility not vermin proof. Harborage or condit...   \n",
       "\n",
       "  CRITICAL FLAG  SCORE GRADE  GRADE DATE RECORD DATE  \\\n",
       "0  Not Critical    NaN   NaN         NaN  04/01/2019   \n",
       "1      Critical   94.0     C  11/30/2017  04/01/2019   \n",
       "2      Critical    9.0     A  07/12/2018  04/01/2019   \n",
       "3  Not Critical    NaN   NaN         NaN  04/01/2019   \n",
       "4  Not Critical   20.0   NaN         NaN  04/01/2019   \n",
       "\n",
       "                            INSPECTION TYPE  \n",
       "0      Calorie Posting / Initial Inspection  \n",
       "1  Pre-permit (Operational) / Re-inspection  \n",
       "2  Pre-permit (Operational) / Re-inspection  \n",
       "3      Calorie Posting / Initial Inspection  \n",
       "4     Cycle Inspection / Initial Inspection  "
      ]
     },
     "execution_count": 216,
     "metadata": {},
     "output_type": "execute_result"
    }
   ],
   "source": [
    "df.head()"
   ]
  },
  {
   "cell_type": "markdown",
   "metadata": {},
   "source": [
    "**Boolean indexing on rows:** `df[df['GRADE'] == 'C']`"
   ]
  },
  {
   "cell_type": "code",
   "execution_count": null,
   "metadata": {},
   "outputs": [],
   "source": []
  },
  {
   "cell_type": "markdown",
   "metadata": {},
   "source": [
    "**Comining Boolean indexes:** \n",
    "```python\n",
    "a_grade = df['GRADE'] == 'A'\n",
    "bk = df['BORO'] == 'BROOKLYN'\n",
    "df[a_grade & bk]\n",
    "```"
   ]
  },
  {
   "cell_type": "code",
   "execution_count": null,
   "metadata": {},
   "outputs": [],
   "source": []
  },
  {
   "cell_type": "markdown",
   "metadata": {},
   "source": [
    "## Exercises\n",
    "---\n",
    "**1. Apply a Boolean filter to** `CUISINE DESCRIPTION` **to select only the Filipino restaurants. How many inspections were there?** \n",
    "\n",
    "Hint: Use the `len()` function."
   ]
  },
  {
   "cell_type": "code",
   "execution_count": null,
   "metadata": {},
   "outputs": [],
   "source": []
  },
  {
   "cell_type": "markdown",
   "metadata": {},
   "source": [
    "**2. Apply Boolean filters to select only rows where the** `CRITICAL FLAG` **column is** `Critical`. **What percentage of all inspections were** `Critical`**?**\n",
    "\n",
    "Hint: Divide the number of `Critical` rows by the total number"
   ]
  },
  {
   "cell_type": "code",
   "execution_count": null,
   "metadata": {},
   "outputs": [],
   "source": []
  },
  {
   "cell_type": "markdown",
   "metadata": {},
   "source": [
    "**3. How many inspections are there for Starbucks? What percentage of Starbucks inspections were** `Critical`**?**\n",
    "\n",
    "Hint: Use the `DBA` column to target Starbucks"
   ]
  },
  {
   "cell_type": "code",
   "execution_count": null,
   "metadata": {},
   "outputs": [],
   "source": []
  },
  {
   "cell_type": "markdown",
   "metadata": {},
   "source": [
    "**4. What percentage of inspections of restaurant located on either** `BOWERY` **or** `EAST BROADWAY` **streets were critical?**"
   ]
  },
  {
   "cell_type": "code",
   "execution_count": null,
   "metadata": {},
   "outputs": [],
   "source": []
  },
  {
   "cell_type": "markdown",
   "metadata": {},
   "source": [
    "### Extra Credit\n",
    "---\n",
    "**1. Which type of restaurant a higher percentage of** `Critical` **inspections -- restaurants with a** `CUISINE DESCRIPTION` **of** `'Donuts'` **or** `'Juice, Smoothies, Fruit Salads'`**?**"
   ]
  },
  {
   "cell_type": "code",
   "execution_count": null,
   "metadata": {},
   "outputs": [],
   "source": []
  },
  {
   "cell_type": "markdown",
   "metadata": {},
   "source": [
    "## II. Columns\n",
    "\n",
    "\n",
    "### Warm Ups\n",
    "---\n",
    "**See column data types:** `df.dtypes`"
   ]
  },
  {
   "cell_type": "code",
   "execution_count": null,
   "metadata": {},
   "outputs": [],
   "source": []
  },
  {
   "cell_type": "markdown",
   "metadata": {},
   "source": [
    "**Aggregate column with Numpy function:** `df['SCORE'].mean()`"
   ]
  },
  {
   "cell_type": "code",
   "execution_count": null,
   "metadata": {},
   "outputs": [],
   "source": []
  },
  {
   "cell_type": "markdown",
   "metadata": {},
   "source": [
    "**Create new column from existing one:** `df['NEG_SCORE'] = df['SCORE'] * -1`"
   ]
  },
  {
   "cell_type": "code",
   "execution_count": null,
   "metadata": {},
   "outputs": [],
   "source": []
  },
  {
   "cell_type": "markdown",
   "metadata": {},
   "source": [
    "**Create a dataframe from columns:** `df[['DBA', 'SCORE']]`"
   ]
  },
  {
   "cell_type": "code",
   "execution_count": null,
   "metadata": {},
   "outputs": [],
   "source": []
  },
  {
   "cell_type": "markdown",
   "metadata": {},
   "source": [
    "**Sort dataframe ascending/descending based on column:** \n",
    "```python\n",
    "df.sort_values('SCORE')\n",
    "df.sort_values('SCORE', ascending=False)\n",
    "```"
   ]
  },
  {
   "cell_type": "code",
   "execution_count": null,
   "metadata": {},
   "outputs": [],
   "source": []
  },
  {
   "cell_type": "markdown",
   "metadata": {},
   "source": [
    "### Exercises\n",
    "---\n",
    "**1. Use** `.dtypes` **to check the datatype of the** `ZIPCODE` **column. Oh no! Since some ZIP codes start with a zero, this is not what we want.**\n",
    "\n",
    "**Load the data again using** `pd.read_csv()`, **but this time after the file name, give it an additional input of** `dtype={\"ZIPCODE\": str}` **to set the ZIP codes to a their proper type.**"
   ]
  },
  {
   "cell_type": "code",
   "execution_count": null,
   "metadata": {},
   "outputs": [],
   "source": []
  },
  {
   "cell_type": "markdown",
   "metadata": {},
   "source": [
    "**2. Restaurants receive points for every health code violation. First, create a smaller dataframe from just the** `DBA` **and** `SCORE` **columns. Then sort by** `SCORE` **descending to see the worst offenders.**"
   ]
  },
  {
   "cell_type": "code",
   "execution_count": null,
   "metadata": {},
   "outputs": [],
   "source": []
  },
  {
   "cell_type": "markdown",
   "metadata": {},
   "source": [
    "**3. What is the average** `SCORE` **across all inspections?**"
   ]
  },
  {
   "cell_type": "code",
   "execution_count": null,
   "metadata": {},
   "outputs": [],
   "source": []
  },
  {
   "cell_type": "markdown",
   "metadata": {},
   "source": [
    "**4. Which has inspections with a higher average** `SCORE`, **Manhattan or Brooklyn?**"
   ]
  },
  {
   "cell_type": "code",
   "execution_count": null,
   "metadata": {},
   "outputs": [],
   "source": []
  },
  {
   "cell_type": "markdown",
   "metadata": {},
   "source": [
    "**5. Create a new column** `SCORE_OUT_OF_TEN` **which takes the** `SCORE` **column and scales it down from 1 to 10.**"
   ]
  },
  {
   "cell_type": "code",
   "execution_count": null,
   "metadata": {},
   "outputs": [],
   "source": []
  },
  {
   "cell_type": "markdown",
   "metadata": {},
   "source": [
    "**5. What is the most common** `STREET` **for inspections to occur on?**\n",
    "\n",
    "Hint: You can use the Numpy method `.mode()` to get the most frequently occuring value from a column."
   ]
  },
  {
   "cell_type": "code",
   "execution_count": null,
   "metadata": {},
   "outputs": [],
   "source": []
  },
  {
   "cell_type": "markdown",
   "metadata": {},
   "source": [
    "### Extra Credit\n",
    "---\n",
    "**6. What is the most common** `DBA` **for inspections that are flagged** `Critical`?"
   ]
  },
  {
   "cell_type": "code",
   "execution_count": null,
   "metadata": {},
   "outputs": [],
   "source": []
  },
  {
   "cell_type": "markdown",
   "metadata": {},
   "source": [
    "## III. Cleaning Data\n",
    "\n",
    "\n",
    "### Warm Ups\n",
    "---\n",
    "\n",
    "**Contains string:** `starbucks = df['DBA'].str.contains('STARBUCKS', na=False)`"
   ]
  },
  {
   "cell_type": "code",
   "execution_count": null,
   "metadata": {},
   "outputs": [],
   "source": []
  },
  {
   "cell_type": "markdown",
   "metadata": {},
   "source": [
    "**Starts/ends with:** \n",
    "```python \n",
    "df['DBA'].str.startswith(\"THE\")\n",
    "df['DBA'].str.endswith(\"RESTAURANT\")\n",
    "```"
   ]
  },
  {
   "cell_type": "code",
   "execution_count": null,
   "metadata": {},
   "outputs": [],
   "source": []
  },
  {
   "cell_type": "markdown",
   "metadata": {},
   "source": [
    "**Overwrite:** `df.loc[starbucks, \"DBA\"] = \"STARBUCKS\"`"
   ]
  },
  {
   "cell_type": "code",
   "execution_count": null,
   "metadata": {},
   "outputs": [],
   "source": []
  },
  {
   "cell_type": "markdown",
   "metadata": {},
   "source": [
    "**Rows with/without NaN in column:** \n",
    "```python\n",
    "df['GRADE'].isnull()\n",
    "df['GRADE'].notnull()\n",
    "```"
   ]
  },
  {
   "cell_type": "code",
   "execution_count": null,
   "metadata": {},
   "outputs": [],
   "source": []
  },
  {
   "cell_type": "markdown",
   "metadata": {},
   "source": [
    "**Fill all NaN values in a column:** `df['GRADE'].fillna('NOT RATED')`"
   ]
  },
  {
   "cell_type": "code",
   "execution_count": null,
   "metadata": {},
   "outputs": [],
   "source": []
  },
  {
   "cell_type": "markdown",
   "metadata": {},
   "source": [
    "**Save to CSV:** `df.to_csv(\"inspections.csv\", index=False)`"
   ]
  },
  {
   "cell_type": "code",
   "execution_count": null,
   "metadata": {},
   "outputs": [],
   "source": []
  },
  {
   "cell_type": "markdown",
   "metadata": {},
   "source": [
    "### Exercises\n",
    "---\n",
    "**1. Find all the spellings of McDonald's by filtering** `DBA` **to anything that contains** `DONALD`\n",
    "\n",
    "Hint: You can use the `set()` function on the `DBA` column after to just see unique values"
   ]
  },
  {
   "cell_type": "code",
   "execution_count": null,
   "metadata": {},
   "outputs": [],
   "source": []
  },
  {
   "cell_type": "markdown",
   "metadata": {},
   "source": [
    "**2. We don't want to include** `Macdonald Avenue Diner` **so create a second Boolean filter to matches** `DBA` **values that end with** `\"DINER\"`"
   ]
  },
  {
   "cell_type": "code",
   "execution_count": null,
   "metadata": {},
   "outputs": [],
   "source": []
  },
  {
   "cell_type": "markdown",
   "metadata": {},
   "source": [
    "**3. Select the rows that match the** `DONALD` **filter but not the** `DINER` **filter, and overwrite with the string** `\"MACDONALDS\"` **to standardize the spelling.**"
   ]
  },
  {
   "cell_type": "code",
   "execution_count": 198,
   "metadata": {},
   "outputs": [],
   "source": []
  },
  {
   "cell_type": "markdown",
   "metadata": {},
   "source": [
    "**4. Use** `.fillna()` **to create a copy of the** `DBA` **column with an empty string instead of NAs. Overwrite the DBA column with this new version.**"
   ]
  },
  {
   "cell_type": "code",
   "execution_count": null,
   "metadata": {},
   "outputs": [],
   "source": []
  },
  {
   "cell_type": "markdown",
   "metadata": {},
   "source": [
    "### Extra Credit\n",
    "---\n",
    "\n",
    "**1. Many restaurants without a grade were given an inspection score, which can be used to derive a grade. Those that get 0 and 13 points earn an A, those with 14 to 27 points receive a B and those with 28\n",
    "or more a C.**\n",
    "\n",
    "**Use boolean indexing to fill in those missing grades that can be derived.**"
   ]
  },
  {
   "cell_type": "code",
   "execution_count": null,
   "metadata": {},
   "outputs": [],
   "source": []
  }
 ],
 "metadata": {
  "kernelspec": {
   "display_name": "Python 3",
   "language": "python",
   "name": "python3"
  },
  "language_info": {
   "codemirror_mode": {
    "name": "ipython",
    "version": 3
   },
   "file_extension": ".py",
   "mimetype": "text/x-python",
   "name": "python",
   "nbconvert_exporter": "python",
   "pygments_lexer": "ipython3",
   "version": "3.6.8"
  }
 },
 "nbformat": 4,
 "nbformat_minor": 2
}
