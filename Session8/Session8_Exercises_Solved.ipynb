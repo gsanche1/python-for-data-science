{
 "cells": [
  {
   "cell_type": "markdown",
   "metadata": {},
   "source": [
    "# Python for Data Science, Level I\n",
    "### *Session \\#8*\n",
    "---\n",
    "\n",
    "### Helpful shortcuts\n",
    "---\n",
    "\n",
    "**SHIFT** + **ENTER** ----> Execute Cell\n",
    "\n",
    "**TAB** ----> See autocomplete options\n",
    "\n",
    "**ESC** then **b** ----> Create Cell \n",
    "\n",
    "**ESC** then **dd** ----> Delete Cell\n",
    "\n",
    "**\\[python expression\\]?** ---> Explanation of that Python expression\n",
    "\n",
    "**ESC** then **m** then __ENTER__ ----> Switch to Markdown mode"
   ]
  },
  {
   "cell_type": "markdown",
   "metadata": {},
   "source": [
    "## I. APIs and JSON\n",
    "---\n",
    "\n",
    "### Warm Ups"
   ]
  },
  {
   "cell_type": "markdown",
   "metadata": {},
   "source": [
    "**Imports:** \n",
    "```python\n",
    "import requests\n",
    "import pandas as pd\n",
    "```"
   ]
  },
  {
   "cell_type": "code",
   "execution_count": 1,
   "metadata": {},
   "outputs": [],
   "source": [
    "import requests\n",
    "import pandas as pd"
   ]
  },
  {
   "cell_type": "markdown",
   "metadata": {},
   "source": [
    "**GET Request:** \n",
    "```python\n",
    "joke_url = \"http://api.icndb.com/jokes/random\"\n",
    "requests.get(joke_url).json()\n",
    "```"
   ]
  },
  {
   "cell_type": "code",
   "execution_count": 5,
   "metadata": {},
   "outputs": [
    {
     "data": {
      "text/plain": [
       "\"If you Google search &quot;Chuck Norris getting his ass kicked&quot; you will generate zero results. It just doesn't happen.\""
      ]
     },
     "execution_count": 5,
     "metadata": {},
     "output_type": "execute_result"
    }
   ],
   "source": [
    "joke_url = \"http://api.icndb.com/jokes/random\"\n",
    "data = requests.get(joke_url).json()\n",
    "\n",
    "data['value']['joke']"
   ]
  },
  {
   "cell_type": "markdown",
   "metadata": {},
   "source": [
    "**GET Request with query string parameters**: \n",
    "```python\n",
    "params = {\"firstName\": \"Rob\", \"lastName\": \"Carrington\"}\n",
    "requests.get(joke_url, params=params).json()\n",
    "```"
   ]
  },
  {
   "cell_type": "code",
   "execution_count": null,
   "metadata": {},
   "outputs": [],
   "source": []
  },
  {
   "cell_type": "markdown",
   "metadata": {},
   "source": [
    "**Fetching nested data:**\n",
    "```python\n",
    "data_dict = requests.get(joke_url).json()\n",
    "data_dict['value']['joke']\n",
    "```"
   ]
  },
  {
   "cell_type": "code",
   "execution_count": null,
   "metadata": {},
   "outputs": [],
   "source": []
  },
  {
   "cell_type": "markdown",
   "metadata": {},
   "source": [
    "## Exercises\n",
    "---\n",
    "**1. Do a basic GET request to the Kanye West quote API below, and fetch the quote from the response**"
   ]
  },
  {
   "cell_type": "code",
   "execution_count": 110,
   "metadata": {},
   "outputs": [],
   "source": [
    "kanye_api = \"https://api.kanye.rest\""
   ]
  },
  {
   "cell_type": "markdown",
   "metadata": {},
   "source": [
    "**2. Call the Quote of the Day API below, with the parameter** `category` **set to either** `inspire`, `funny` **or** `sports`. **Fetch the author and the quote itself.**"
   ]
  },
  {
   "cell_type": "code",
   "execution_count": null,
   "metadata": {},
   "outputs": [],
   "source": [
    "quote_api = \"http://quotes.rest/qod.json\""
   ]
  },
  {
   "cell_type": "markdown",
   "metadata": {},
   "source": [
    "**3. Call the stock market API below, with the following parameters:**\n",
    "```\n",
    "function: TIME_SERIES_DAILY\n",
    "symbol: MSFT\n",
    "apikey: 88WLCWEX74ZWRAOX\n",
    "```"
   ]
  },
  {
   "cell_type": "code",
   "execution_count": 104,
   "metadata": {},
   "outputs": [],
   "source": [
    "stock_api = \"https://www.alphavantage.co/query\"\n",
    "params = {\"function\": \"TIME_SERIES_DAILY\", \"symbol\": \"MSFT\", \"apikey\": \"88WLCWEX74ZWRAOX\"}\n",
    "data = requests.get(stock_api, params).json()\n",
    "inner_data = data['Time Series (Daily)']"
   ]
  },
  {
   "cell_type": "markdown",
   "metadata": {},
   "source": [
    "**4. Fetch the daily stock data from the stock market API response. Follow the example below to convert this to a dataframe, and save it as** `stock_df`\n",
    "```python\n",
    "pd.DataFrame.from_dict(data, orient='index', dtype=\"float\")\n",
    "```"
   ]
  },
  {
   "cell_type": "code",
   "execution_count": 59,
   "metadata": {},
   "outputs": [],
   "source": [
    "df = pd.DataFrame.from_dict(inner_data, orient='index', dtype=\"float\")"
   ]
  },
  {
   "cell_type": "markdown",
   "metadata": {},
   "source": [
    "### Extra Credit\n",
    "---\n",
    "**1. In addition to query string parameters, APIs can also vary their response by having different** \"routes.\"\n",
    "**Explore the Star Wars API below by adding routes like** `/people/1`, `/planets/4`, **or** `starships/9` **to the end.**"
   ]
  },
  {
   "cell_type": "code",
   "execution_count": 133,
   "metadata": {},
   "outputs": [],
   "source": [
    "star_wars_api = \"https://swapi.co/api/\""
   ]
  },
  {
   "cell_type": "markdown",
   "metadata": {},
   "source": [
    "## II. Timeseries Data\n",
    "---\n",
    "\n",
    "### Warm Ups"
   ]
  },
  {
   "cell_type": "markdown",
   "metadata": {},
   "source": [
    "**Converting an index to datetime:** `stock_df.index = pd.to_datetime(stock_df.index)`"
   ]
  },
  {
   "cell_type": "code",
   "execution_count": 20,
   "metadata": {},
   "outputs": [],
   "source": [
    "df.index = pd.to_datetime(df.index)"
   ]
  },
  {
   "cell_type": "markdown",
   "metadata": {},
   "source": [
    "**Grab year/month/day of data with partial string index:** \n",
    "```python\n",
    "stock_df.loc['2017']\n",
    "stock_df.loc['2017-02']\n",
    "stock_df.loc['2017-02-01']\n",
    "```"
   ]
  },
  {
   "cell_type": "code",
   "execution_count": 24,
   "metadata": {},
   "outputs": [
    {
     "data": {
      "text/plain": [
       "1. open           102.51\n",
       "2. high           105.05\n",
       "3. low            101.88\n",
       "4. close          105.01\n",
       "5. volume    31587616.00\n",
       "Name: 2019-01-15 00:00:00, dtype: float64"
      ]
     },
     "execution_count": 24,
     "metadata": {},
     "output_type": "execute_result"
    }
   ],
   "source": [
    "df.loc['2019-01-15']"
   ]
  },
  {
   "cell_type": "markdown",
   "metadata": {},
   "source": [
    "**Grab slice with partial string index:** `stock_df['2019-01':'2019-03']`"
   ]
  },
  {
   "cell_type": "code",
   "execution_count": 27,
   "metadata": {},
   "outputs": [],
   "source": [
    "q1 = df['2019-01':'2019-03']"
   ]
  },
  {
   "cell_type": "markdown",
   "metadata": {},
   "source": [
    "**See summary statistics:** `stock_df.describe()`"
   ]
  },
  {
   "cell_type": "code",
   "execution_count": null,
   "metadata": {},
   "outputs": [],
   "source": []
  },
  {
   "cell_type": "markdown",
   "metadata": {},
   "source": [
    "**Create a basic plot of two column:** `stock_df[['1. open', '4. close']].plot()`"
   ]
  },
  {
   "cell_type": "code",
   "execution_count": 198,
   "metadata": {},
   "outputs": [],
   "source": [
    "# Turns on inline graphing\n",
    "%matplotlib inline\n",
    "\n",
    "# Add your code here"
   ]
  },
  {
   "cell_type": "markdown",
   "metadata": {},
   "source": [
    "### Exercises\n",
    "---\n",
    "**1. Create a dataframe** `q1` **with just the stock data from January to April 2019**"
   ]
  },
  {
   "cell_type": "code",
   "execution_count": 32,
   "metadata": {},
   "outputs": [
    {
     "data": {
      "text/plain": [
       "1. open      float64\n",
       "2. high      float64\n",
       "3. low       float64\n",
       "4. close     float64\n",
       "5. volume    float64\n",
       "dtype: object"
      ]
     },
     "execution_count": 32,
     "metadata": {},
     "output_type": "execute_result"
    }
   ],
   "source": [
    "q1 = df['2019-01':'2019-04']"
   ]
  },
  {
   "cell_type": "markdown",
   "metadata": {},
   "source": [
    "**2. Create a line plot of the closing price during Q1**"
   ]
  },
  {
   "cell_type": "code",
   "execution_count": 30,
   "metadata": {},
   "outputs": [
    {
     "data": {
      "text/plain": [
       "<matplotlib.axes._subplots.AxesSubplot at 0x118f759b0>"
      ]
     },
     "execution_count": 30,
     "metadata": {},
     "output_type": "execute_result"
    },
    {
     "data": {
      "image/png": "[encoded data removed]",
      "text/plain": [
       "<Figure size 432x288 with 1 Axes>"
      ]
     },
     "metadata": {
      "needs_background": "light"
     },
     "output_type": "display_data"
    }
   ],
   "source": [
    "%matplotlib inline\n",
    "q1['4. close'].plot()"
   ]
  },
  {
   "cell_type": "markdown",
   "metadata": {},
   "source": [
    "**3. What was the averaging closing price of MSFT during Q1? How does that compare to its average price in 2018?**"
   ]
  },
  {
   "cell_type": "code",
   "execution_count": 33,
   "metadata": {},
   "outputs": [
    {
     "data": {
      "text/plain": [
       "113.75662162162165"
      ]
     },
     "execution_count": 33,
     "metadata": {},
     "output_type": "execute_result"
    }
   ],
   "source": [
    "q1['4. close'].mean()"
   ]
  },
  {
   "cell_type": "markdown",
   "metadata": {},
   "source": [
    "**4. What was the best day in 2019 to buy MSFT? What was the best day to sell?**\n",
    "\n",
    "Hint: You can use the Numpy function `.idxmin()` to find the index of the min argument, and likewise for `.idxmax()`"
   ]
  },
  {
   "cell_type": "code",
   "execution_count": null,
   "metadata": {},
   "outputs": [],
   "source": [
    "df.loc['2019']['3. low'].idxmin()\n",
    "df.loc['2019']['2. high'].idxmax()"
   ]
  },
  {
   "cell_type": "markdown",
   "metadata": {},
   "source": [
    "### Extra Credit\n",
    "---"
   ]
  },
  {
   "cell_type": "markdown",
   "metadata": {},
   "source": [
    "**1. We can also read timeseries data in from CSVs and Excel files. Below is an example of reading.**\n",
    "\n",
    "```python\n",
    "df = pd.read_csv(\"path_to_file\", parse_dates=['Date'], index_col='Date')\n",
    "```\n",
    "\n",
    "**Read in the file** `stocks.csv` **following this example, and create a line plot from the data inside**"
   ]
  },
  {
   "cell_type": "code",
   "execution_count": 52,
   "metadata": {},
   "outputs": [
    {
     "data": {
      "text/plain": [
       "<matplotlib.axes._subplots.AxesSubplot at 0x119f05908>"
      ]
     },
     "execution_count": 52,
     "metadata": {},
     "output_type": "execute_result"
    },
    {
     "data": {
      "image/png": "[encoded data removed]",
      "text/plain": [
       "<Figure size 432x288 with 1 Axes>"
      ]
     },
     "metadata": {
      "needs_background": "light"
     },
     "output_type": "display_data"
    }
   ],
   "source": [
    "df = pd.read_csv(\"stocks.csv\", parse_dates=['Date'], index_col=\"Date\")\n",
    "df[['JPM', 'AAPL', 'NKE', 'MSFT', 'VZ']].plot()"
   ]
  },
  {
   "cell_type": "markdown",
   "metadata": {},
   "source": [
    "## I. Intro to Matplotlib\n",
    "\n",
    "### Warm Ups\n",
    "\n",
    "---\n",
    "\n",
    "**Import pandas and matplotlib:**\n",
    "```python\n",
    "import pandas as pd\n",
    "import matplotlib.pyplot as plt\n",
    "```"
   ]
  },
  {
   "cell_type": "code",
   "execution_count": 54,
   "metadata": {},
   "outputs": [],
   "source": [
    "import pandas as pd\n",
    "import matplotlib.pyplot as plt"
   ]
  },
  {
   "cell_type": "markdown",
   "metadata": {},
   "source": [
    "**Set base style:** `plt.style.use('seaborn')`\n",
    "\n",
    "*Note: This page lists [all base styles](https://matplotlib.org/gallery/style_sheets/style_sheets_reference.html) supported by Matplotlib.* "
   ]
  },
  {
   "cell_type": "code",
   "execution_count": 66,
   "metadata": {},
   "outputs": [],
   "source": [
    "plt.style.use('seaborn')"
   ]
  },
  {
   "cell_type": "markdown",
   "metadata": {},
   "source": [
    "**Create bar chart and save figure:**\n",
    "\n",
    "```python\n",
    "rigged_axes = rigged_df.plot(kind='bar', x=\"languages\")\n",
    "rigged_fig = plt.gcf()\n",
    "```\n",
    "\n",
    "*Note: `gfc()` is short for \"get current figure\"*"
   ]
  },
  {
   "cell_type": "code",
   "execution_count": 55,
   "metadata": {},
   "outputs": [
    {
     "data": {
      "image/png": "[encoded data removed]",
      "text/plain": [
       "<Figure size 432x288 with 1 Axes>"
      ]
     },
     "metadata": {
      "needs_background": "light"
     },
     "output_type": "display_data"
    }
   ],
   "source": [
    "languages = ['Python', 'C++', 'Java', 'Perl', 'Scala', 'Lisp']\n",
    "popularity = [10, 8, 6, 4, 2, 1]\n",
    "rigged_df = pd.DataFrame({\"languages\": languages, \"popularity\": popularity}, index=languages)\n",
    "\n",
    "# Add your code here\n",
    "\n",
    "rigged_axes = rigged_df.plot(kind='bar', x=\"languages\")\n",
    "rigged_fig = plt.gcf()"
   ]
  },
  {
   "cell_type": "code",
   "execution_count": 58,
   "metadata": {},
   "outputs": [],
   "source": []
  },
  {
   "cell_type": "markdown",
   "metadata": {},
   "source": [
    "**Set figure size:** `rigged_fig.set_size_inches(10, 6)`"
   ]
  },
  {
   "cell_type": "code",
   "execution_count": 173,
   "metadata": {},
   "outputs": [],
   "source": []
  },
  {
   "cell_type": "markdown",
   "metadata": {},
   "source": [
    "**Set title of plot:**  `rigged_axes.set_title(\"Awesome title\")`\n",
    "\n",
    "*Note: Can optionally also set* `fontsize` *and* `fontname`. *This page lists [all the fonts](http://jonathansoma.com/lede/data-studio/matplotlib/list-all-fonts-available-in-matplotlib-plus-samples/) supported by Matplotlib*"
   ]
  },
  {
   "cell_type": "code",
   "execution_count": null,
   "metadata": {},
   "outputs": [],
   "source": []
  },
  {
   "cell_type": "markdown",
   "metadata": {},
   "source": [
    "**Set axis label:** `rigged_axes.set_xlabel(\"Taxonomy\")`\n",
    "\n",
    "*Note: Can optionally also set* `fontsize` *and* `fontname`"
   ]
  },
  {
   "cell_type": "code",
   "execution_count": null,
   "metadata": {},
   "outputs": [],
   "source": []
  },
  {
   "cell_type": "markdown",
   "metadata": {},
   "source": [
    "### Exercises\n",
    "---"
   ]
  },
  {
   "cell_type": "markdown",
   "metadata": {},
   "source": [
    "**1. Create a dataframe from the file** `animal_lifespans.csv`"
   ]
  },
  {
   "cell_type": "code",
   "execution_count": 61,
   "metadata": {},
   "outputs": [],
   "source": [
    "animal_df = pd.read_csv(\"animal_lifespans.csv\", encoding='latin-1')"
   ]
  },
  {
   "cell_type": "markdown",
   "metadata": {},
   "source": [
    "**2. Create a smaller dataframe with just the columns** `TaxonClass`, `Male MLE`, `Female MLE`, **and** `Overall MLE`. **Drop rows with any nulls using** `.dropna()` **dataframe method.**"
   ]
  },
  {
   "cell_type": "code",
   "execution_count": 63,
   "metadata": {},
   "outputs": [],
   "source": [
    "cols = [\"TaxonClass\", \"Male MLE\", \"Female MLE\", \"Overall MLE\"]\n",
    "\n",
    "small_df = animal_df[cols].dropna()"
   ]
  },
  {
   "cell_type": "markdown",
   "metadata": {},
   "source": [
    "**3. Group on the column** `TaxonClass` **and take the mean. Plot the result as a bar chart, and save it as** `animal_axes`. **Save the figure as** `animal_fig`"
   ]
  },
  {
   "cell_type": "code",
   "execution_count": 67,
   "metadata": {},
   "outputs": [
    {
     "data": {
      "image/png": "[encoded data removed]",
      "text/plain": [
       "<Figure size 576x396 with 1 Axes>"
      ]
     },
     "metadata": {},
     "output_type": "display_data"
    }
   ],
   "source": [
    "averaged = small_df.groupby(\"TaxonClass\").mean()\n",
    "\n",
    "animal_axes = averaged.plot(kind='bar')\n",
    "animal_fig = plt.gcf()"
   ]
  },
  {
   "cell_type": "markdown",
   "metadata": {},
   "source": [
    "**4. Give the bar chart a title and resize it to 12\" x 6\". Label the x-axis as** `Class` **and the y-axis as** `Life Expectancy in Years`"
   ]
  },
  {
   "cell_type": "code",
   "execution_count": 71,
   "metadata": {},
   "outputs": [],
   "source": [
    "animal_axes.set_title(\"Awesome title\", fontsize=34)\n",
    "animal_axes.set_xlabel(\"Class\")\n",
    "animal_axes.set_ylabel(\"Life Expectancy in Years\")\n",
    "\n",
    "\n",
    "animal_fig.set_size_inches(12, 6)\n",
    "animal_fig.savefig(\"CoolGraph.pdf\")"
   ]
  },
  {
   "cell_type": "markdown",
   "metadata": {},
   "source": [
    "### Extra Credit\n",
    "---\n",
    "**1. Bokeh is a more recent plotting library, which can output interactive HTML plots.**\n",
    "\n",
    "**The code that follows generates a candlestick plot of our MSFT data -- see if you can modify the code to change the color of the candlesticks and other features of the graph.**"
   ]
  },
  {
   "cell_type": "code",
   "execution_count": 60,
   "metadata": {},
   "outputs": [],
   "source": [
    "from bokeh.plotting import figure, show, output_file\n",
    "\n",
    "df \n",
    "\n",
    "# Boolean mask to select days of increasing vs. decreasing\n",
    "inc = df['4. close'] > df['1. open']\n",
    "dec = df['1. open'] > df['4. close']\n",
    "\n",
    "# A day, in milliseconds\n",
    "day = 24*60*60*1000\n",
    "\n",
    "# Create the \n",
    "p = figure(x_axis_type=\"datetime\", plot_width=1000, title = \"MSFT Candlestick\")\n",
    "p.segment(df.index, df['2. high'], df.index, df['3. low'])\n",
    "\n",
    "\n",
    "# Draws the candlestick\n",
    "p.vbar(df.index[inc], day, df['1. open'][inc], df['4. close'][inc], fill_color=\"#D5E1DD\", line_color=\"black\")\n",
    "p.vbar(df.index[dec], day, df['1. open'][dec], df['4. close'][dec], fill_color=\"#F2583E\", line_color=\"black\")\n",
    "\n",
    "\n",
    "output_file(\"candlestick.html\", title=\"Candlestick Plot\")\n",
    "show(p)"
   ]
  },
  {
   "cell_type": "markdown",
   "metadata": {},
   "source": [
    "## BONUS FUNCTION"
   ]
  },
  {
   "cell_type": "code",
   "execution_count": 103,
   "metadata": {},
   "outputs": [
    {
     "data": {
      "text/plain": [
       "<matplotlib.axes._subplots.AxesSubplot at 0x11c6ed860>"
      ]
     },
     "execution_count": 103,
     "metadata": {},
     "output_type": "execute_result"
    },
    {
     "data": {
      "image/png": "[encoded data removed]",
      "text/plain": [
       "<Figure size 576x396 with 1 Axes>"
      ]
     },
     "metadata": {},
     "output_type": "display_data"
    }
   ],
   "source": [
    "def gen_graph(symbol, start, end):\n",
    "    stock_api = \"https://www.alphavantage.co/query\"\n",
    "    params = {\"function\": \"TIME_SERIES_DAILY\", \n",
    "              \"symbol\": symbol, \n",
    "              \"outputsize\": \"full\",\n",
    "              \"apikey\": \"88WLCWEX74ZWRAOX\"}\n",
    "    data = requests.get(stock_api, params).json()\n",
    "    inner_data = data['Time Series (Daily)']\n",
    "    df = pd.DataFrame.from_dict(inner_data, orient='index', dtype=\"float\")\n",
    "    df.index = pd.to_datetime(df.index)\n",
    "    sliced_df = df.loc[start:end]\n",
    "    axes = sliced_df['4. close'].plot()\n",
    "    axes.set_title(symbol, fontsize=30)\n",
    "    return axes\n",
    "\n",
    "gen_graph(\"TSLA\", \"2018-03-02\", \"2019-01-10\")"
   ]
  },
  {
   "cell_type": "code",
   "execution_count": null,
   "metadata": {},
   "outputs": [],
   "source": []
  }
 ],
 "metadata": {
  "kernelspec": {
   "display_name": "Python 3",
   "language": "python",
   "name": "python3"
  },
  "language_info": {
   "codemirror_mode": {
    "name": "ipython",
    "version": 3
   },
   "file_extension": ".py",
   "mimetype": "text/x-python",
   "name": "python",
   "nbconvert_exporter": "python",
   "pygments_lexer": "ipython3",
   "version": "3.7.1"
  }
 },
 "nbformat": 4,
 "nbformat_minor": 2
}
