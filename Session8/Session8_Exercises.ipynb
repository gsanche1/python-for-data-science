{
 "cells": [
  {
   "cell_type": "markdown",
   "metadata": {},
   "source": [
    "# Python for Data Science, Level I\n",
    "### *Session \\#8*\n",
    "---\n",
    "\n",
    "### Helpful shortcuts\n",
    "---\n",
    "\n",
    "**SHIFT** + **ENTER** ----> Execute Cell\n",
    "\n",
    "**TAB** ----> See autocomplete options\n",
    "\n",
    "**ESC** then **b** ----> Create Cell \n",
    "\n",
    "**ESC** then **dd** ----> Delete Cell\n",
    "\n",
    "**\\[python expression\\]?** ---> Explanation of that Python expression\n",
    "\n",
    "**ESC** then **m** then __ENTER__ ----> Switch to Markdown mode"
   ]
  },
  {
   "cell_type": "markdown",
   "metadata": {},
   "source": [
    "## I. Timeseries Data\n",
    "---\n",
    "\n",
    "### Warm Ups"
   ]
  },
  {
   "cell_type": "code",
   "execution_count": 152,
   "metadata": {},
   "outputs": [],
   "source": [
    "import pandas as pd\n",
    "from matplotlib import pyplot as plt\n",
    "%matplotlib inline\n",
    "\n",
    "url = \"https://www.quandl.com/api/v3/datasets/EOD/AAPL.csv\"\n",
    "query_string = \"?api_key=K2km7t6m9xhmYRD7zCPY\""
   ]
  },
  {
   "cell_type": "markdown",
   "metadata": {},
   "source": [
    "**Read CSV of timeseries data:**\n",
    "```python\n",
    "df = pd.read_csv(url+query_string, parse_dates=['Date'], index_col='Date')\n",
    "```"
   ]
  },
  {
   "cell_type": "code",
   "execution_count": null,
   "metadata": {},
   "outputs": [],
   "source": []
  },
  {
   "cell_type": "markdown",
   "metadata": {},
   "source": [
    "**Sort rows by date:** `df.sort_values('Date', inplace=True)`"
   ]
  },
  {
   "cell_type": "code",
   "execution_count": null,
   "metadata": {},
   "outputs": [],
   "source": []
  },
  {
   "cell_type": "markdown",
   "metadata": {},
   "source": [
    "**Grab year/month/day of data with partial string index:** \n",
    "```python\n",
    "df.loc['2017']\n",
    "df.loc['2017-02']\n",
    "df.loc['2017-02-01']\n",
    "```"
   ]
  },
  {
   "cell_type": "code",
   "execution_count": null,
   "metadata": {},
   "outputs": [],
   "source": []
  },
  {
   "cell_type": "markdown",
   "metadata": {},
   "source": [
    "**Grab slice with partial string index:** `df.loc['2017-01':'2017-03']`"
   ]
  },
  {
   "cell_type": "code",
   "execution_count": null,
   "metadata": {},
   "outputs": [],
   "source": []
  },
  {
   "cell_type": "markdown",
   "metadata": {},
   "source": [
    "**See summary statistics:** `df.describe()`"
   ]
  },
  {
   "cell_type": "code",
   "execution_count": null,
   "metadata": {},
   "outputs": [],
   "source": []
  },
  {
   "cell_type": "markdown",
   "metadata": {},
   "source": [
    "**Create a basic plot of two column:** \n",
    "```\n",
    "columns = ['Open', 'Close']\n",
    "df[columns].plot()\n",
    "```"
   ]
  },
  {
   "cell_type": "code",
   "execution_count": 24,
   "metadata": {},
   "outputs": [],
   "source": []
  },
  {
   "cell_type": "markdown",
   "metadata": {},
   "source": [
    "### Exercises\n",
    "---\n",
    "**1. Create a dataframe** `q1` **with just the stock data from January to April 2014**"
   ]
  },
  {
   "cell_type": "code",
   "execution_count": null,
   "metadata": {},
   "outputs": [],
   "source": []
  },
  {
   "cell_type": "markdown",
   "metadata": {},
   "source": [
    "**2. Create a line plot of the closing price during Q1**"
   ]
  },
  {
   "cell_type": "code",
   "execution_count": null,
   "metadata": {},
   "outputs": [],
   "source": []
  },
  {
   "cell_type": "markdown",
   "metadata": {},
   "source": [
    "**3. What was the averaging closing price of AAPL during Q1? How does that compare to its average price in 2015?**"
   ]
  },
  {
   "cell_type": "code",
   "execution_count": null,
   "metadata": {},
   "outputs": [],
   "source": []
  },
  {
   "cell_type": "markdown",
   "metadata": {},
   "source": [
    "**4. What was the lowest closing price of AAPL in 2015? What was the highest closing price?**\n",
    "\n",
    "Hint: You can use the Numpy function `.idxmin()` to find the index of the min argument, and likewise for `.idxmax()`"
   ]
  },
  {
   "cell_type": "code",
   "execution_count": null,
   "metadata": {},
   "outputs": [],
   "source": []
  },
  {
   "cell_type": "markdown",
   "metadata": {},
   "source": [
    "## II. Intro to Matplotlib\n",
    "\n",
    "### Warm Ups\n",
    "\n",
    "---\n",
    "\n",
    "*Note: Use **ONE** notebook cell per graph*\n",
    "\n",
    "*Note: Executing things in order matters!*\n",
    "\n",
    "*Note: This page lists [all base styles](https://matplotlib.org/gallery/style_sheets/style_sheets_reference.html) supported by Matplotlib.* "
   ]
  },
  {
   "cell_type": "code",
   "execution_count": 99,
   "metadata": {},
   "outputs": [],
   "source": [
    "# IMPORT MATPLOTLIB (ONCE PER NOTEBOOK)\n",
    "# import matplotlib.pyplot as plt\n",
    "\n",
    "\n",
    "\n",
    "# TURN ON INLINE GRAPHS (ONCE PER NOTEBOOK)\n",
    "# %matplotlib inline\n",
    "\n",
    "\n",
    "\n",
    "# CHOOSE STYLE (ONCE PER NOTEBOOK)\n",
    "# plt.style.use('seaborn')\n",
    "\n",
    "\n",
    "\n",
    "# SET SIZE OF GRAPH (INCHES)\n",
    "# plt.figure(figsize=(12,6))\n",
    "\n",
    "\n",
    "\n",
    "# DRAW PLOT\n",
    "# plt.plot(df.index, df['Open'])\n",
    "\n",
    "\n",
    "\n",
    "# ADD LEGEND TO PLOT (OPTIONAL: LIST OF STRINGS FOR LABELS)\n",
    "# plt.legend()\n",
    "\n",
    "\n",
    "\n",
    "# SAVE PLOT TO HARDDRIVE\n",
    "# plt.savefig(\"example.jpg\")"
   ]
  },
  {
   "cell_type": "markdown",
   "metadata": {},
   "source": [
    "### Exercises\n",
    "---\n",
    "**1. Choose a different style and plot the** `Close` **column over December of 2016**"
   ]
  },
  {
   "cell_type": "code",
   "execution_count": null,
   "metadata": {},
   "outputs": [],
   "source": []
  },
  {
   "cell_type": "markdown",
   "metadata": {},
   "source": [
    "**2. To plot multiple columns, pass a DataFrame as the second input to** `.plot()`\n",
    "\n",
    "**Create a new dataframe with just the** `High` **and** `Low` **columns and plot this over January 2015.** \n",
    "\n",
    "**Add a legend, with the labels** `Highest Price` **and** `Lowest Price` "
   ]
  },
  {
   "cell_type": "code",
   "execution_count": null,
   "metadata": {},
   "outputs": [],
   "source": []
  },
  {
   "cell_type": "markdown",
   "metadata": {},
   "source": [
    "**3. Create a new** `Variation` **column which captures the difference between** `Close` **and** `Open` **as a positive number, i.e. absolute value.**\n",
    "\n",
    "*Hint: To get absolute value, use Numpy array's .abs() method*"
   ]
  },
  {
   "cell_type": "code",
   "execution_count": 310,
   "metadata": {},
   "outputs": [],
   "source": []
  },
  {
   "cell_type": "markdown",
   "metadata": {},
   "source": [
    "**4. Do a groupby on** `df.index.month` **to total up volume per month. Save the output dataframe as** `volume`"
   ]
  },
  {
   "cell_type": "code",
   "execution_count": null,
   "metadata": {},
   "outputs": [],
   "source": []
  },
  {
   "cell_type": "markdown",
   "metadata": {},
   "source": [
    "## III. More Matplotlib\n",
    "\n",
    "### Warm Ups\n",
    "\n",
    "---\n",
    "\n",
    "*NOTE: Can set `fontsize` and `fontname` on any of these methods*"
   ]
  },
  {
   "cell_type": "code",
   "execution_count": 1,
   "metadata": {},
   "outputs": [],
   "source": [
    "# CREATE BAR CHART \n",
    "# plt.bar(volume.index, volume)\n",
    "\n",
    "# ADD TITLE\n",
    "# plt.title('Example')\n",
    "\n",
    "\n",
    "# CHANGE X-AXIS LABEL\n",
    "# plt.xlabel(\"X-Axis\")\n",
    "\n",
    "\n",
    "# CHANGE TICK LABELS \n",
    "# plt.xticks(rotation=90)"
   ]
  },
  {
   "cell_type": "markdown",
   "metadata": {},
   "source": [
    "### Exercises\n",
    "---"
   ]
  },
  {
   "cell_type": "markdown",
   "metadata": {},
   "source": [
    "**1. Create a bar graph of** `volume` **with proper title, figure size, and y-axis label** "
   ]
  },
  {
   "cell_type": "code",
   "execution_count": null,
   "metadata": {},
   "outputs": [],
   "source": []
  },
  {
   "cell_type": "markdown",
   "metadata": {},
   "source": [
    "**2. Create a dataframe named** `monthly_change` **by grouping** `df` **by** `df.index.month` **and summing up the** `Change` **column**"
   ]
  },
  {
   "cell_type": "code",
   "execution_count": null,
   "metadata": {},
   "outputs": [],
   "source": []
  },
  {
   "cell_type": "markdown",
   "metadata": {},
   "source": [
    "**3. Create a dataframe named** `daily_volume` **by grouping** `df` **by** `df.index.dayofweek` **and summing up the** `Volume` **column**"
   ]
  },
  {
   "cell_type": "code",
   "execution_count": null,
   "metadata": {},
   "outputs": [],
   "source": []
  },
  {
   "cell_type": "markdown",
   "metadata": {},
   "source": [
    "### Extra Credit"
   ]
  },
  {
   "cell_type": "markdown",
   "metadata": {},
   "source": [
    "**5. Define a function that will visualize a given stock over a date range.**"
   ]
  },
  {
   "cell_type": "code",
   "execution_count": null,
   "metadata": {},
   "outputs": [],
   "source": []
  }
 ],
 "metadata": {
  "kernelspec": {
   "display_name": "Python 3",
   "language": "python",
   "name": "python3"
  },
  "language_info": {
   "codemirror_mode": {
    "name": "ipython",
    "version": 3
   },
   "file_extension": ".py",
   "mimetype": "text/x-python",
   "name": "python",
   "nbconvert_exporter": "python",
   "pygments_lexer": "ipython3",
   "version": "3.6.8"
  }
 },
 "nbformat": 4,
 "nbformat_minor": 2
}
