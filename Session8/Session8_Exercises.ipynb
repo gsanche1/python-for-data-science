{
 "cells": [
  {
   "cell_type": "markdown",
   "metadata": {},
   "source": [
    "# Python for Data Science, Level I\n",
    "### *Session \\#8*\n",
    "---\n",
    "\n",
    "### Helpful shortcuts\n",
    "---\n",
    "\n",
    "**SHIFT** + **ENTER** ----> Execute Cell\n",
    "\n",
    "**TAB** ----> See autocomplete options\n",
    "\n",
    "**ESC** then **b** ----> Create Cell \n",
    "\n",
    "**ESC** then **dd** ----> Delete Cell\n",
    "\n",
    "**\\[python expression\\]?** ---> Explanation of that Python expression\n",
    "\n",
    "**ESC** then **m** then __ENTER__ ----> Switch to Markdown mode"
   ]
  },
  {
   "cell_type": "markdown",
   "metadata": {},
   "source": [
    "## I. APIs and JSON\n",
    "---\n",
    "\n",
    "### Warm Ups"
   ]
  },
  {
   "cell_type": "markdown",
   "metadata": {},
   "source": [
    "**Imports:** \n",
    "```python\n",
    "import requests\n",
    "import pandas as pd\n",
    "```"
   ]
  },
  {
   "cell_type": "code",
   "execution_count": null,
   "metadata": {},
   "outputs": [],
   "source": []
  },
  {
   "cell_type": "markdown",
   "metadata": {},
   "source": [
    "**GET Request:** \n",
    "```python\n",
    "joke_url = \"http://api.icndb.com/jokes/random\"\n",
    "requests.get(joke_url).json()\n",
    "```"
   ]
  },
  {
   "cell_type": "code",
   "execution_count": null,
   "metadata": {},
   "outputs": [],
   "source": []
  },
  {
   "cell_type": "markdown",
   "metadata": {},
   "source": [
    "**GET Request with query string parameters**: \n",
    "```python\n",
    "params = {\"firstName\": \"Rob\", \"lastName\": \"Carrington\"}\n",
    "requests.get(joke_url, params=params).json()\n",
    "```"
   ]
  },
  {
   "cell_type": "code",
   "execution_count": null,
   "metadata": {},
   "outputs": [],
   "source": []
  },
  {
   "cell_type": "markdown",
   "metadata": {},
   "source": [
    "**Fetching nested data:**\n",
    "```python\n",
    "data_dict = requests.get(joke_url).json()\n",
    "data_dict['value']['joke']\n",
    "```"
   ]
  },
  {
   "cell_type": "code",
   "execution_count": null,
   "metadata": {},
   "outputs": [],
   "source": []
  },
  {
   "cell_type": "markdown",
   "metadata": {},
   "source": [
    "## Exercises\n",
    "---\n",
    "**1. Do a basic GET request to the Kanye West quote API below, and fetch the quote from the response**"
   ]
  },
  {
   "cell_type": "code",
   "execution_count": 110,
   "metadata": {},
   "outputs": [],
   "source": [
    "kanye_api = \"https://api.kanye.rest\""
   ]
  },
  {
   "cell_type": "markdown",
   "metadata": {},
   "source": [
    "**2. Call the Quote of the Day API below, with the parameter** `category` **set to either** `inspire`, `funny` **or** `sports`. **Fetch the author and the quote itself.**"
   ]
  },
  {
   "cell_type": "code",
   "execution_count": null,
   "metadata": {},
   "outputs": [],
   "source": [
    "quote_api = \"http://quotes.rest/qod.json\""
   ]
  },
  {
   "cell_type": "markdown",
   "metadata": {},
   "source": [
    "**3. Call the stock market API below, with the following parameters:**\n",
    "```\n",
    "function: TIME_SERIES_DAILY\n",
    "symbol: MSFT\n",
    "apikey: 88WLCWEX74ZWRAOX\n",
    "```"
   ]
  },
  {
   "cell_type": "code",
   "execution_count": 130,
   "metadata": {},
   "outputs": [],
   "source": [
    "stock_api = \"https://www.alphavantage.co/query\""
   ]
  },
  {
   "cell_type": "markdown",
   "metadata": {},
   "source": [
    "**4. Fetch the daily stock data from the stock market API response. Follow the example below to convert this to a dataframe, and save it as** `stock_df`\n",
    "```python\n",
    "pd.DataFrame.from_dict(data, orient='index', dtype=\"float\")\n",
    "```"
   ]
  },
  {
   "cell_type": "code",
   "execution_count": null,
   "metadata": {},
   "outputs": [],
   "source": []
  },
  {
   "cell_type": "markdown",
   "metadata": {},
   "source": [
    "### Extra Credit\n",
    "---\n",
    "**1. In addition to query string parameters, APIs can also vary their response by having different** \"routes.\"\n",
    "**Explore the Star Wars API below by adding routes like** `/people/1`, `/planets/4`, **or** `starships/9` **to the end.**"
   ]
  },
  {
   "cell_type": "code",
   "execution_count": 133,
   "metadata": {},
   "outputs": [],
   "source": [
    "star_wars_api = \"https://swapi.co/api/\""
   ]
  },
  {
   "cell_type": "markdown",
   "metadata": {},
   "source": [
    "## II. Timeseries Data\n",
    "---\n",
    "\n",
    "### Warm Ups"
   ]
  },
  {
   "cell_type": "markdown",
   "metadata": {},
   "source": [
    "**Converting an index to datetime:** `stock_df.index = pd.to_datetime(stock_df.index)`"
   ]
  },
  {
   "cell_type": "code",
   "execution_count": null,
   "metadata": {},
   "outputs": [],
   "source": []
  },
  {
   "cell_type": "markdown",
   "metadata": {},
   "source": [
    "**Grab year/month/day of data with partial string index:** \n",
    "```python\n",
    "stock_df.loc['2017']\n",
    "stock_df.loc['2017-02']\n",
    "stock_df.loc['2017-02-01']\n",
    "```"
   ]
  },
  {
   "cell_type": "code",
   "execution_count": null,
   "metadata": {},
   "outputs": [],
   "source": []
  },
  {
   "cell_type": "markdown",
   "metadata": {},
   "source": [
    "**Grab slice with partial string index:** `stock_df['2019-01':'2019-03']`"
   ]
  },
  {
   "cell_type": "code",
   "execution_count": null,
   "metadata": {},
   "outputs": [],
   "source": []
  },
  {
   "cell_type": "markdown",
   "metadata": {},
   "source": [
    "**See summary statistics:** `stock_df.describe()`"
   ]
  },
  {
   "cell_type": "code",
   "execution_count": null,
   "metadata": {},
   "outputs": [],
   "source": []
  },
  {
   "cell_type": "markdown",
   "metadata": {},
   "source": [
    "**Create a basic plot of two column:** `stock_df[['1. open', '4. close']].plot()`"
   ]
  },
  {
   "cell_type": "code",
   "execution_count": 198,
   "metadata": {},
   "outputs": [],
   "source": [
    "# Turns on inline graphing\n",
    "%matplotlib inline\n",
    "\n",
    "# Add your code here"
   ]
  },
  {
   "cell_type": "markdown",
   "metadata": {},
   "source": [
    "### Exercises\n",
    "---\n",
    "**1. Create a dataframe** `q1` **with just the stock data from January to April 2019**"
   ]
  },
  {
   "cell_type": "code",
   "execution_count": null,
   "metadata": {},
   "outputs": [],
   "source": []
  },
  {
   "cell_type": "markdown",
   "metadata": {},
   "source": [
    "**2. Create a line plot of the closing price during Q1**"
   ]
  },
  {
   "cell_type": "code",
   "execution_count": null,
   "metadata": {},
   "outputs": [],
   "source": []
  },
  {
   "cell_type": "markdown",
   "metadata": {},
   "source": [
    "**3. What was the averaging closing price of MSFT during Q1? How does that compare to its average price in 2018?**"
   ]
  },
  {
   "cell_type": "code",
   "execution_count": null,
   "metadata": {},
   "outputs": [],
   "source": []
  },
  {
   "cell_type": "markdown",
   "metadata": {},
   "source": [
    "**4. What was the best day in 2019 to buy MSFT? What was the best day to sell?**\n",
    "\n",
    "Hint: You can use the Numpy function `.idxmin()` to find the index of the min argument, and likewise for `.idxmax()`"
   ]
  },
  {
   "cell_type": "code",
   "execution_count": null,
   "metadata": {},
   "outputs": [],
   "source": []
  },
  {
   "cell_type": "markdown",
   "metadata": {},
   "source": [
    "### Extra Credit\n",
    "---"
   ]
  },
  {
   "cell_type": "markdown",
   "metadata": {},
   "source": [
    "**1. We can also read timeseries data in from CSVs and Excel files. Below is an example of reading.**\n",
    "\n",
    "```python\n",
    "df = pd.read_csv(\"path_to_file\", parse_dates=['Date'], index_col='Date')\n",
    "```\n",
    "\n",
    "**Read in the file** `stocks.csv` **following this example, and create a line plot from the data inside**"
   ]
  },
  {
   "cell_type": "code",
   "execution_count": null,
   "metadata": {},
   "outputs": [],
   "source": []
  },
  {
   "cell_type": "markdown",
   "metadata": {},
   "source": [
    "## I. Intro to Matplotlib\n",
    "\n",
    "### Warm Ups\n",
    "\n",
    "---\n",
    "\n",
    "**Import pandas and matplotlib:**\n",
    "```python\n",
    "import pandas as pd\n",
    "import matplotlib.pyplot as plt\n",
    "```"
   ]
  },
  {
   "cell_type": "code",
   "execution_count": 160,
   "metadata": {},
   "outputs": [],
   "source": []
  },
  {
   "cell_type": "markdown",
   "metadata": {},
   "source": [
    "**Set base style:** `plt.style.use('seaborn')`\n",
    "\n",
    "*Note: This page lists [all base styles](https://matplotlib.org/gallery/style_sheets/style_sheets_reference.html) supported by Matplotlib.* "
   ]
  },
  {
   "cell_type": "code",
   "execution_count": 4,
   "metadata": {},
   "outputs": [],
   "source": []
  },
  {
   "cell_type": "markdown",
   "metadata": {},
   "source": [
    "**Create bar chart and save figure:**\n",
    "\n",
    "```python\n",
    "rigged_axes = rigged_df.plot(kind='bar', x=\"languages\")\n",
    "rigged_fig = plt.gcf()\n",
    "```\n",
    "\n",
    "*Note: `gfc()` is short for \"get current figure\"*"
   ]
  },
  {
   "cell_type": "code",
   "execution_count": 172,
   "metadata": {},
   "outputs": [],
   "source": [
    "languages = ['Python', 'C++', 'Java', 'Perl', 'Scala', 'Lisp']\n",
    "popularity = [10, 8, 6, 4, 2, 1]\n",
    "rigged_df = pd.DataFrame({\"languages\": languages, \"popularity\": popularity}, index=languages)\n",
    "\n",
    "# Add your code here"
   ]
  },
  {
   "cell_type": "markdown",
   "metadata": {},
   "source": [
    "**Set figure size:** `rigged_fig.set_size_inches(10, 6)`"
   ]
  },
  {
   "cell_type": "code",
   "execution_count": 173,
   "metadata": {},
   "outputs": [],
   "source": []
  },
  {
   "cell_type": "markdown",
   "metadata": {},
   "source": [
    "**Set title of plot:**  `rigged_axes.set_title(\"Awesome title\")`\n",
    "\n",
    "*Note: Can optionally also set* `fontsize` *and* `fontname`. *This page lists [all the fonts](http://jonathansoma.com/lede/data-studio/matplotlib/list-all-fonts-available-in-matplotlib-plus-samples/) supported by Matplotlib*"
   ]
  },
  {
   "cell_type": "code",
   "execution_count": null,
   "metadata": {},
   "outputs": [],
   "source": []
  },
  {
   "cell_type": "markdown",
   "metadata": {},
   "source": [
    "**Set axis label:** `rigged_axes.set_xlabel(\"Taxonomy\")`\n",
    "\n",
    "*Note: Can optionally also set* `fontsize` *and* `fontname`"
   ]
  },
  {
   "cell_type": "code",
   "execution_count": null,
   "metadata": {},
   "outputs": [],
   "source": []
  },
  {
   "cell_type": "markdown",
   "metadata": {},
   "source": [
    "### Exercises\n",
    "---"
   ]
  },
  {
   "cell_type": "markdown",
   "metadata": {},
   "source": [
    "**1. Create a dataframe from the file** `animal_lifespans.csv`"
   ]
  },
  {
   "cell_type": "code",
   "execution_count": 10,
   "metadata": {},
   "outputs": [],
   "source": [
    "animal_df = pd.read_csv(\"animal_lifespans.csv\", encoding='latin-1')"
   ]
  },
  {
   "cell_type": "markdown",
   "metadata": {},
   "source": [
    "**2. Create a smaller dataframe with just the columns** `TaxonClass`, `Male MLE`, `Female MLE`, **and** `Overall MLE`. **Drop rows with any nulls using** `.dropna()` **dataframe method.**"
   ]
  },
  {
   "cell_type": "code",
   "execution_count": null,
   "metadata": {},
   "outputs": [],
   "source": []
  },
  {
   "cell_type": "markdown",
   "metadata": {},
   "source": [
    "**3. Group on the column** `TaxonClass` **and take the mean. Plot the result as a bar chart, and save it as** `animal_axes`. **Save the figure as** `animal_fig`"
   ]
  },
  {
   "cell_type": "code",
   "execution_count": null,
   "metadata": {},
   "outputs": [],
   "source": []
  },
  {
   "cell_type": "markdown",
   "metadata": {},
   "source": [
    "**4. Give the bar chart a title and resize it to 12\" x 6\". Label the x-axis as** `Class` **and the y-axis as** `Life Expectancy in Years`"
   ]
  },
  {
   "cell_type": "code",
   "execution_count": null,
   "metadata": {},
   "outputs": [],
   "source": []
  },
  {
   "cell_type": "markdown",
   "metadata": {},
   "source": [
    "### Extra Credit\n",
    "---\n",
    "**1. Bokeh is a more recent plotting library, which can output interactive HTML plots.**\n",
    "\n",
    "**The code that follows generates a candlestick plot of our MSFT data -- see if you can modify the code to change the color of the candlesticks and other features of the graph.**"
   ]
  },
  {
   "cell_type": "code",
   "execution_count": 189,
   "metadata": {},
   "outputs": [],
   "source": [
    "from bokeh.plotting import figure, show, output_file\n",
    "\n",
    "# Boolean mask to select days of increasing vs. decreasing\n",
    "inc = df['4. close'] > df['1. open']\n",
    "dec = df['1. open'] > df['4. close']\n",
    "\n",
    "# A day, in milliseconds\n",
    "day = 24*60*60*1000\n",
    "\n",
    "# Create the \n",
    "p = figure(x_axis_type=\"datetime\", plot_width=1000, title = \"MSFT Candlestick\")\n",
    "p.segment(df.index, df['2. high'], df.index, df['3. low'])\n",
    "\n",
    "\n",
    "# Draws the candlestick\n",
    "p.vbar(df.index[inc], day, df['1. open'][inc], df['4. close'][inc], fill_color=\"#D5E1DD\", line_color=\"black\")\n",
    "p.vbar(df.index[dec], day, df['1. open'][dec], df['4. close'][dec], fill_color=\"#F2583E\", line_color=\"black\")\n",
    "\n",
    "\n",
    "output_file(\"candlestick.html\", title=\"Candlestick Plot\")\n",
    "show(p)"
   ]
  }
 ],
 "metadata": {
  "kernelspec": {
   "display_name": "Python 3",
   "language": "python",
   "name": "python3"
  },
  "language_info": {
   "codemirror_mode": {
    "name": "ipython",
    "version": 3
   },
   "file_extension": ".py",
   "mimetype": "text/x-python",
   "name": "python",
   "nbconvert_exporter": "python",
   "pygments_lexer": "ipython3",
   "version": "3.6.8"
  }
 },
 "nbformat": 4,
 "nbformat_minor": 2
}
