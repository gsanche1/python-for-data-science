{
 "cells": [
  {
   "cell_type": "markdown",
   "metadata": {},
   "source": [
    "# Python for Data Science, Level I\n",
    "### *Session \\#4*\n",
    "---\n",
    "\n",
    "### Helpful shortcuts\n",
    "---\n",
    "\n",
    "**SHIFT** + **ENTER** ----> Execute Cell\n",
    "\n",
    "**TAB** ----> See autocomplete options\n",
    "\n",
    "**ESC** then **b** ----> Create Cell \n",
    "\n",
    "**ESC** then **dd** ----> Delete Cell\n",
    "\n",
    "**\\[python expression\\]?** ---> Explanation of that Python expression\n",
    "\n",
    "**ESC** then **m** then __ENTER__ ----> Switch to Markdown mode"
   ]
  },
  {
   "cell_type": "markdown",
   "metadata": {},
   "source": [
    "## I. For Loops\n",
    "\n",
    "\n",
    "### Warm Ups\n",
    "---\n",
    "**For-loop on a list:** \n",
    "    \n",
    "```python\n",
    "for num in [1, 2, 3]:\n",
    "    print(num)\n",
    "```"
   ]
  },
  {
   "cell_type": "code",
   "execution_count": null,
   "metadata": {},
   "outputs": [],
   "source": []
  },
  {
   "cell_type": "markdown",
   "metadata": {},
   "source": [
    "**For-loop on a string:**\n",
    "\n",
    "```python\n",
    "for char in \"word\":\n",
    "    print(char)\n",
    "```"
   ]
  },
  {
   "cell_type": "code",
   "execution_count": null,
   "metadata": {},
   "outputs": [],
   "source": []
  },
  {
   "cell_type": "markdown",
   "metadata": {},
   "source": [
    "**For-loop on a range:**\n",
    "    \n",
    "```python\n",
    "for num in range(10):\n",
    "    print(num)\n",
    "\n",
    "```"
   ]
  },
  {
   "cell_type": "code",
   "execution_count": null,
   "metadata": {},
   "outputs": [],
   "source": []
  },
  {
   "cell_type": "markdown",
   "metadata": {},
   "source": [
    "**Using a for-loop to construct:**\n",
    "    \n",
    "```python\n",
    "i = 0\n",
    "for num in range(10):\n",
    "    i = i + num\n",
    "```"
   ]
  },
  {
   "cell_type": "code",
   "execution_count": null,
   "metadata": {},
   "outputs": [],
   "source": []
  },
  {
   "cell_type": "markdown",
   "metadata": {},
   "source": [
    "### Exercises\n",
    "---"
   ]
  },
  {
   "cell_type": "markdown",
   "metadata": {},
   "source": [
    "**1. Write a function that, given a list of numbers, will sum the entire list.**"
   ]
  },
  {
   "cell_type": "code",
   "execution_count": null,
   "metadata": {},
   "outputs": [],
   "source": []
  },
  {
   "cell_type": "markdown",
   "metadata": {},
   "source": [
    "**2. Write function that, given a list of numbers, will return the count of negative numbers in the list.**"
   ]
  },
  {
   "cell_type": "code",
   "execution_count": null,
   "metadata": {},
   "outputs": [],
   "source": []
  },
  {
   "cell_type": "markdown",
   "metadata": {},
   "source": [
    "**3. Write a function that will find the largest number in a list using a for-loop.**\n",
    "\n",
    "Hint: Create a variable that will track the largest number seen thus far."
   ]
  },
  {
   "cell_type": "code",
   "execution_count": null,
   "metadata": {},
   "outputs": [],
   "source": []
  },
  {
   "cell_type": "markdown",
   "metadata": {},
   "source": [
    "**4. Write a function** `fizzbuzz()` **which loops over the integers from 1 to 50. For multiples of three print** `\"Fizz\"` **instead of the number and for the multiples of five print** `\"Buzz\"`. **For numbers which are multiples of both three and five print** `\"FizzBuzz\"`"
   ]
  },
  {
   "cell_type": "code",
   "execution_count": null,
   "metadata": {},
   "outputs": [],
   "source": []
  },
  {
   "cell_type": "markdown",
   "metadata": {},
   "source": [
    "### Extra Credit\n",
    "---\n",
    "**1. Write a function** `digit_sum()` **that, given a number, will return the sum of its digits.**\n",
    "\n",
    "**For example,** `digit_sum(1824)` **would return** `15` "
   ]
  },
  {
   "cell_type": "code",
   "execution_count": null,
   "metadata": {},
   "outputs": [],
   "source": []
  },
  {
   "cell_type": "markdown",
   "metadata": {},
   "source": [
    "## II. Dictionaries\n",
    "\n",
    "\n",
    "### Warm Ups\n",
    "---\n",
    "\n",
    "**Dictionary literal:** `my_dict = {\"name\": \"Rob\", \"shoe_size\": 9.5}`"
   ]
  },
  {
   "cell_type": "code",
   "execution_count": null,
   "metadata": {},
   "outputs": [],
   "source": []
  },
  {
   "cell_type": "markdown",
   "metadata": {},
   "source": [
    "**Fetch by key:** `my_dict['name']`"
   ]
  },
  {
   "cell_type": "code",
   "execution_count": null,
   "metadata": {},
   "outputs": [],
   "source": []
  },
  {
   "cell_type": "markdown",
   "metadata": {},
   "source": [
    "**Add an item:** `my_dict['hair'] = \"brown\"`"
   ]
  },
  {
   "cell_type": "code",
   "execution_count": null,
   "metadata": {},
   "outputs": [],
   "source": []
  },
  {
   "cell_type": "markdown",
   "metadata": {},
   "source": [
    "**Looping over a dictionary:** \n",
    "\n",
    "```python\n",
    "for key in my_dict:\n",
    "    print(key)\n",
    "```"
   ]
  },
  {
   "cell_type": "code",
   "execution_count": null,
   "metadata": {},
   "outputs": [],
   "source": []
  },
  {
   "cell_type": "markdown",
   "metadata": {},
   "source": [
    "**Looping over key-value pairs:** \n",
    "\n",
    "```python\n",
    "for key,value in my_dict.items():\n",
    "    print(key)\n",
    "    print(value)\n",
    "```"
   ]
  },
  {
   "cell_type": "code",
   "execution_count": null,
   "metadata": {},
   "outputs": [],
   "source": []
  },
  {
   "cell_type": "markdown",
   "metadata": {},
   "source": [
    "### Exercises\n",
    "---\n",
    "**1. Create a dictionary literal with the information on your driver's license. It should contain keys for** `name`, `height`, **and** `eye_color`."
   ]
  },
  {
   "cell_type": "code",
   "execution_count": null,
   "metadata": {},
   "outputs": [],
   "source": []
  },
  {
   "cell_type": "markdown",
   "metadata": {},
   "source": [
    "**2. Add** `city` **and** `state` **as additional keys in your dictionary.**"
   ]
  },
  {
   "cell_type": "code",
   "execution_count": null,
   "metadata": {},
   "outputs": [],
   "source": []
  },
  {
   "cell_type": "markdown",
   "metadata": {},
   "source": [
    "**3. Write a for-loop that will print out all the keys and values from your drivers license.**\n",
    "\n",
    "**The output should follow this pattern:** `\"My height is 6'0\"`, `\"My city is Brooklyn\"`, **etc**"
   ]
  },
  {
   "cell_type": "code",
   "execution_count": null,
   "metadata": {},
   "outputs": [],
   "source": []
  },
  {
   "cell_type": "markdown",
   "metadata": {},
   "source": [
    "**4. Dictionaries and lists can be values inside a dictionary too! API data is frequently nested this way, so let's practice navigating through a mock API response.**\n",
    "\n",
    "**Can you fetch the CEO of AAPL from the response?**\n",
    "\n",
    "Hint: To drill down, use the keys of the outer dictionary and work inward. Eg. `api_response[\"MSFT\"][\"companyName\"]` will first drill into the Microsoft dictionary, then grab the value of companyName."
   ]
  },
  {
   "cell_type": "code",
   "execution_count": 6,
   "metadata": {},
   "outputs": [],
   "source": [
    "api_response = {\"AAPL\": {\"companyName\": \"Apple Inc.\",\n",
    "                         \"CEO\": \"Tim Cook\",\n",
    "                         \"tags\": [\"technology\", \"hardware\"]\n",
    "                        },\n",
    "                \"MSFT\": {\"companyName\": \"Microsoft Corporation\",\n",
    "                         \"CEO\": \"Satya Nadella\",\n",
    "                         \"tags\": [\"technology\", \"software\"]\n",
    "                         }\n",
    "                }\n",
    "               \n",
    "# WRITE YOUR CODE DOWN HERE"
   ]
  },
  {
   "cell_type": "markdown",
   "metadata": {},
   "source": [
    "**5. Can you grab the tags for Microsoft from the same response? What about just the last tag?**"
   ]
  },
  {
   "cell_type": "code",
   "execution_count": null,
   "metadata": {},
   "outputs": [],
   "source": []
  },
  {
   "cell_type": "markdown",
   "metadata": {},
   "source": [
    "### Extra Credit\n",
    "---\n",
    "**1. Write a function** `frequency()` **that will take a string and count the number of times each letter appears.**\n",
    "\n",
    "**The output should be a dictionary, like this:** `frequency(\"wood\") -> {\"w\": 1, \"o\": 2, \"d\": 1}`"
   ]
  },
  {
   "cell_type": "code",
   "execution_count": null,
   "metadata": {},
   "outputs": [],
   "source": []
  },
  {
   "cell_type": "markdown",
   "metadata": {},
   "source": [
    "## III. APIs and JSON\n",
    "---\n",
    "\n",
    "### Warm Ups"
   ]
  },
  {
   "cell_type": "markdown",
   "metadata": {},
   "source": [
    "**Import requests package:** `import requests`"
   ]
  },
  {
   "cell_type": "code",
   "execution_count": null,
   "metadata": {},
   "outputs": [],
   "source": []
  },
  {
   "cell_type": "markdown",
   "metadata": {},
   "source": [
    "**GET Request:** \n",
    "```python\n",
    "joke_url = \"http://api.icndb.com/jokes/random\"\n",
    "requests.get(joke_url).json()\n",
    "```"
   ]
  },
  {
   "cell_type": "code",
   "execution_count": null,
   "metadata": {},
   "outputs": [],
   "source": []
  },
  {
   "cell_type": "markdown",
   "metadata": {},
   "source": [
    "**Fetching nested data:**\n",
    "```python\n",
    "data_dict = requests.get(joke_url).json()\n",
    "data_dict['value']['joke']\n",
    "```"
   ]
  },
  {
   "cell_type": "code",
   "execution_count": null,
   "metadata": {},
   "outputs": [],
   "source": []
  },
  {
   "cell_type": "markdown",
   "metadata": {},
   "source": [
    "**GET Request with query string parameters**: \n",
    "```python\n",
    "params = {\"firstName\": \"Rob\", \"lastName\": \"Carrington\"}\n",
    "requests.get(joke_url, params=params).json()\n",
    "```"
   ]
  },
  {
   "cell_type": "code",
   "execution_count": null,
   "metadata": {},
   "outputs": [],
   "source": []
  },
  {
   "cell_type": "markdown",
   "metadata": {},
   "source": [
    "**Get user input**: `name = input(\"What is your name?\")`"
   ]
  },
  {
   "cell_type": "code",
   "execution_count": null,
   "metadata": {},
   "outputs": [],
   "source": []
  },
  {
   "cell_type": "markdown",
   "metadata": {},
   "source": [
    "## Exercises\n",
    "---\n",
    "**1. Do a basic GET request to the [Kanye West quote API](https://kanye.rest/) below, and fetch the quote from the response**"
   ]
  },
  {
   "cell_type": "code",
   "execution_count": 72,
   "metadata": {},
   "outputs": [],
   "source": [
    "kanye_api = \"https://api.kanye.rest\""
   ]
  },
  {
   "cell_type": "markdown",
   "metadata": {},
   "source": [
    "**2. Modify the URL for the ZIP code API below to your own ZIP code, and extract the latitude/longitude (of the first place):** "
   ]
  },
  {
   "cell_type": "code",
   "execution_count": 70,
   "metadata": {},
   "outputs": [],
   "source": [
    "zip_code_api = \"http://api.zippopotam.us/us/11238\""
   ]
  },
  {
   "cell_type": "markdown",
   "metadata": {},
   "source": [
    "**3. Using the API above, write a function that will tell you what state a given ZIP code is in:**"
   ]
  },
  {
   "cell_type": "code",
   "execution_count": null,
   "metadata": {},
   "outputs": [],
   "source": []
  },
  {
   "cell_type": "markdown",
   "metadata": {},
   "source": [
    "**4. Use the stock API below, with** `api_key` **and** `rows` **as params. Extract the** `Close` **price.**"
   ]
  },
  {
   "cell_type": "code",
   "execution_count": 71,
   "metadata": {},
   "outputs": [],
   "source": [
    "stock_api = \"https://www.quandl.com/api/v3/datasets/WIKI/FB/data.json\"\n",
    "params = {'api_key': \"K2km7t6m9xhmYRD7zCPY\", \"rows\": 1}"
   ]
  },
  {
   "cell_type": "markdown",
   "metadata": {},
   "source": [
    "**5. With the stock API above, write a function that will give you the most recent** `Close` **price for any stock symbol**"
   ]
  },
  {
   "cell_type": "code",
   "execution_count": null,
   "metadata": {},
   "outputs": [],
   "source": []
  },
  {
   "cell_type": "markdown",
   "metadata": {},
   "source": [
    "### Extra Credit\n",
    "---\n",
    "**1. Use the recipe API below to ask the user what they want to eat. When the API returns options, show them to the user. Ask which number option they want, and print the URL for the recipe they select.**\n",
    "\n",
    "Hint: Use `params` to specify the kind of food, and `input()` to ask questions"
   ]
  },
  {
   "cell_type": "code",
   "execution_count": 69,
   "metadata": {},
   "outputs": [],
   "source": [
    "recipe_api = 'http://www.recipepuppy.com/api/'\n",
    "params = {'q': 'omlette'}"
   ]
  }
 ],
 "metadata": {
  "kernelspec": {
   "display_name": "Python 3",
   "language": "python",
   "name": "python3"
  },
  "language_info": {
   "codemirror_mode": {
    "name": "ipython",
    "version": 3
   },
   "file_extension": ".py",
   "mimetype": "text/x-python",
   "name": "python",
   "nbconvert_exporter": "python",
   "pygments_lexer": "ipython3",
   "version": "3.6.8"
  }
 },
 "nbformat": 4,
 "nbformat_minor": 2
}
